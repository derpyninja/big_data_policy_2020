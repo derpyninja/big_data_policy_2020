{
 "cells": [
  {
   "cell_type": "markdown",
   "metadata": {},
   "source": [
    "# Week 4 - Introduction to Text Data\n",
    "\n",
    "This notebook provides an introduction to the basic tools for text analytics."
   ]
  },
  {
   "cell_type": "markdown",
   "metadata": {},
   "source": [
    "## Set up and load data"
   ]
  },
  {
   "cell_type": "code",
   "execution_count": 1,
   "metadata": {},
   "outputs": [],
   "source": [
    "# Common imports\n",
    "import numpy as np\n",
    "import os\n",
    "import pandas as pd\n",
    "\n",
    "# To plot pretty figures\n",
    "%matplotlib inline\n",
    "%config InlineBackend.figure_format = 'retina'\n",
    "import matplotlib as mpl\n",
    "import matplotlib.pyplot as plt\n",
    "#%matplotlib notebook\n",
    "mpl.rc('axes', labelsize=14)\n",
    "mpl.rc('xtick', labelsize=12)\n",
    "mpl.rc('ytick', labelsize=12)\n",
    "\n",
    "import seaborn as sns\n",
    "import warnings\n",
    "warnings.filterwarnings('ignore', category=FutureWarning)\n",
    "warnings.filterwarnings('ignore', category=DeprecationWarning)\n",
    "warnings.filterwarnings = lambda *a, **kw: None\n",
    "\n",
    "# to make this notebook's output identical at every run\n",
    "np.random.seed(42)"
   ]
  },
  {
   "cell_type": "code",
   "execution_count": 2,
   "metadata": {
    "pycharm": {
     "name": "#%%\n"
    }
   },
   "outputs": [],
   "source": [
    "# Scikit-Learn ≥0.20 is required\n",
    "import sklearn"
   ]
  },
  {
   "cell_type": "markdown",
   "metadata": {},
   "source": [
    "We use as an example the **20 Newsgroups** ([[http://qwone.com/~jason/20Newsgroups/]]) dataset (from `sklearn`), a collection of about 20,000 newsgroup (message forum) documents. "
   ]
  },
  {
   "cell_type": "code",
   "execution_count": 3,
   "metadata": {},
   "outputs": [
    {
     "data": {
      "text/plain": [
       "dict_keys(['data', 'filenames', 'target_names', 'target', 'DESCR'])"
      ]
     },
     "execution_count": 3,
     "metadata": {},
     "output_type": "execute_result"
    }
   ],
   "source": [
    "from sklearn.datasets import fetch_20newsgroups\n",
    "data = fetch_20newsgroups() # object is a dictionary\n",
    "data.keys()"
   ]
  },
  {
   "cell_type": "markdown",
   "metadata": {},
   "source": [
    "Data Set Characteristics:"
   ]
  },
  {
   "cell_type": "code",
   "execution_count": 4,
   "metadata": {
    "scrolled": true
   },
   "outputs": [
    {
     "name": "stdout",
     "output_type": "stream",
     "text": [
      ".. _20newsgroups_dataset:\n",
      "\n",
      "The 20 newsgroups text dataset\n",
      "------------------------------\n",
      "\n",
      "The 20 newsgroups dataset comprises around 18000 newsgroups posts on\n",
      "20 topics split in two subsets: one for training (or development)\n",
      "and the other one for testing (or for performance evaluation). The split\n",
      "between the train and test set is based upon a messages posted before\n",
      "and after a specific date.\n",
      "\n",
      "This module contains two loaders. The first one,\n",
      ":func:`sklearn.datasets.fetch_20newsgroups`,\n",
      "returns a list of the raw texts that can be fed to text feature\n",
      "extractors such as :class:`sklearn.feature_extraction.text.CountVectorizer`\n",
      "with custom parameters so as to extract feature vectors.\n",
      "The second one, :func:`sklearn.datasets.fetch_20newsgroups_vectorized`,\n",
      "returns ready-to-use features, i.e., it is not necessary to use a feature\n",
      "extractor.\n",
      "\n",
      "**Data Set Characteristics:**\n",
      "\n",
      "    =================   ==========\n",
      "    Classes                     20\n",
      "    Samples total            18846\n",
      "    Dimensionality               1\n",
      "    Features                  text\n",
      "    =================   ==========\n",
      "\n",
      "Usage\n",
      "~~~~~\n",
      "\n",
      "The :func:`sklearn.datasets.fetch_20newsgroups` function is a data\n",
      "fetching / caching functions that downloads the data archive from\n",
      "the original `20 newsgroups website`_, extracts the archive contents\n",
      "in the ``~/scikit_learn_data/20news_home`` folder and calls the\n",
      ":func:`sklearn.datasets.load_files` on either the training or\n",
      "testing set folder, or both of them::\n",
      "\n",
      "  >>> from sklearn.datasets import fetch_20newsgroups\n",
      "  >>> newsgroups_train = fetch_20newsgroups(subset='train')\n",
      "\n",
      "  >>> from pprint import pprint\n",
      "  >>> pprint(list(newsgroups_train.target_names))\n",
      "  ['alt.atheism',\n",
      "   'comp.graphics',\n",
      "   'comp.os.ms-windows.misc',\n",
      "   'comp.sys.ibm.pc.hardware',\n",
      "   'comp.sys.mac.hardware',\n",
      "   'comp.windows.x',\n",
      "   'misc.forsale',\n",
      "   'rec.autos',\n",
      "   'rec.motorcycles',\n",
      "   'rec.sport.baseball',\n",
      "   'rec.sport.hockey',\n",
      "   'sci.crypt',\n",
      "   'sci.electronics',\n",
      "   'sci.med',\n",
      "   'sci.space',\n",
      "   'soc.religion.christian',\n",
      "   'talk.politics.guns',\n",
      "   'talk.politics.mideast',\n",
      "   'talk.politics.misc',\n",
      "   'talk.religion.misc']\n",
      "\n",
      "The real data lies in the ``filenames`` and ``target`` attributes. The target\n",
      "attribute is the integer index of the category::\n",
      "\n",
      "  >>> newsgroups_train.filenames.shape\n",
      "  (11314,)\n",
      "  >>> newsgroups_train.target.shape\n",
      "  (11314,)\n",
      "  >>> newsgroups_train.target[:10]\n",
      "  array([ 7,  4,  4,  1, 14, 16, 13,  3,  2,  4])\n",
      "\n",
      "It is possible to load only a sub-selection of the categories by passing the\n",
      "list of the categories to load to the\n",
      ":func:`sklearn.datasets.fetch_20newsgroups` function::\n",
      "\n",
      "  >>> cats = ['alt.atheism', 'sci.space']\n",
      "  >>> newsgroups_train = fetch_20newsgroups(subset='train', categories=cats)\n",
      "\n",
      "  >>> list(newsgroups_train.target_names)\n",
      "  ['alt.atheism', 'sci.space']\n",
      "  >>> newsgroups_train.filenames.shape\n",
      "  (1073,)\n",
      "  >>> newsgroups_train.target.shape\n",
      "  (1073,)\n",
      "  >>> newsgroups_train.target[:10]\n",
      "  array([0, 1, 1, 1, 0, 1, 1, 0, 0, 0])\n",
      "\n",
      "Converting text to vectors\n",
      "~~~~~~~~~~~~~~~~~~~~~~~~~~\n",
      "\n",
      "In order to feed predictive or clustering models with the text data,\n",
      "one first need to turn the text into vectors of numerical values suitable\n",
      "for statistical analysis. This can be achieved with the utilities of the\n",
      "``sklearn.feature_extraction.text`` as demonstrated in the following\n",
      "example that extract `TF-IDF`_ vectors of unigram tokens\n",
      "from a subset of 20news::\n",
      "\n",
      "  >>> from sklearn.feature_extraction.text import TfidfVectorizer\n",
      "  >>> categories = ['alt.atheism', 'talk.religion.misc',\n",
      "  ...               'comp.graphics', 'sci.space']\n",
      "  >>> newsgroups_train = fetch_20newsgroups(subset='train',\n",
      "  ...                                       categories=categories)\n",
      "  >>> vectorizer = TfidfVectorizer()\n",
      "  >>> vectors = vectorizer.fit_transform(newsgroups_train.data)\n",
      "  >>> vectors.shape\n",
      "  (2034, 34118)\n",
      "\n",
      "The extracted TF-IDF vectors are very sparse, with an average of 159 non-zero\n",
      "components by sample in a more than 30000-dimensional space\n",
      "(less than .5% non-zero features)::\n",
      "\n",
      "  >>> vectors.nnz / float(vectors.shape[0])\n",
      "  159.01327...\n",
      "\n",
      ":func:`sklearn.datasets.fetch_20newsgroups_vectorized` is a function which \n",
      "returns ready-to-use token counts features instead of file names.\n",
      "\n",
      ".. _`20 newsgroups website`: http://people.csail.mit.edu/jrennie/20Newsgroups/\n",
      ".. _`TF-IDF`: https://en.wikipedia.org/wiki/Tf-idf\n",
      "\n",
      "\n",
      "Filtering text for more realistic training\n",
      "~~~~~~~~~~~~~~~~~~~~~~~~~~~~~~~~~~~~~~~~~~\n",
      "\n",
      "It is easy for a classifier to overfit on particular things that appear in the\n",
      "20 Newsgroups data, such as newsgroup headers. Many classifiers achieve very\n",
      "high F-scores, but their results would not generalize to other documents that\n",
      "aren't from this window of time.\n",
      "\n",
      "For example, let's look at the results of a multinomial Naive Bayes classifier,\n",
      "which is fast to train and achieves a decent F-score::\n",
      "\n",
      "  >>> from sklearn.naive_bayes import MultinomialNB\n",
      "  >>> from sklearn import metrics\n",
      "  >>> newsgroups_test = fetch_20newsgroups(subset='test',\n",
      "  ...                                      categories=categories)\n",
      "  >>> vectors_test = vectorizer.transform(newsgroups_test.data)\n",
      "  >>> clf = MultinomialNB(alpha=.01)\n",
      "  >>> clf.fit(vectors, newsgroups_train.target)\n",
      "  MultinomialNB(alpha=0.01, class_prior=None, fit_prior=True)\n",
      "\n",
      "  >>> pred = clf.predict(vectors_test)\n",
      "  >>> metrics.f1_score(newsgroups_test.target, pred, average='macro')\n",
      "  0.88213...\n",
      "\n",
      "(The example :ref:`sphx_glr_auto_examples_text_plot_document_classification_20newsgroups.py` shuffles\n",
      "the training and test data, instead of segmenting by time, and in that case\n",
      "multinomial Naive Bayes gets a much higher F-score of 0.88. Are you suspicious\n",
      "yet of what's going on inside this classifier?)\n",
      "\n",
      "Let's take a look at what the most informative features are:\n",
      "\n",
      "  >>> import numpy as np\n",
      "  >>> def show_top10(classifier, vectorizer, categories):\n",
      "  ...     feature_names = np.asarray(vectorizer.get_feature_names())\n",
      "  ...     for i, category in enumerate(categories):\n",
      "  ...         top10 = np.argsort(classifier.coef_[i])[-10:]\n",
      "  ...         print(\"%s: %s\" % (category, \" \".join(feature_names[top10])))\n",
      "  ...\n",
      "  >>> show_top10(clf, vectorizer, newsgroups_train.target_names)\n",
      "  alt.atheism: edu it and in you that is of to the\n",
      "  comp.graphics: edu in graphics it is for and of to the\n",
      "  sci.space: edu it that is in and space to of the\n",
      "  talk.religion.misc: not it you in is that and to of the\n",
      "\n",
      "\n",
      "You can now see many things that these features have overfit to:\n",
      "\n",
      "- Almost every group is distinguished by whether headers such as\n",
      "  ``NNTP-Posting-Host:`` and ``Distribution:`` appear more or less often.\n",
      "- Another significant feature involves whether the sender is affiliated with\n",
      "  a university, as indicated either by their headers or their signature.\n",
      "- The word \"article\" is a significant feature, based on how often people quote\n",
      "  previous posts like this: \"In article [article ID], [name] <[e-mail address]>\n",
      "  wrote:\"\n",
      "- Other features match the names and e-mail addresses of particular people who\n",
      "  were posting at the time.\n",
      "\n",
      "With such an abundance of clues that distinguish newsgroups, the classifiers\n",
      "barely have to identify topics from text at all, and they all perform at the\n",
      "same high level.\n",
      "\n",
      "For this reason, the functions that load 20 Newsgroups data provide a\n",
      "parameter called **remove**, telling it what kinds of information to strip out\n",
      "of each file. **remove** should be a tuple containing any subset of\n",
      "``('headers', 'footers', 'quotes')``, telling it to remove headers, signature\n",
      "blocks, and quotation blocks respectively.\n",
      "\n",
      "  >>> newsgroups_test = fetch_20newsgroups(subset='test',\n",
      "  ...                                      remove=('headers', 'footers', 'quotes'),\n",
      "  ...                                      categories=categories)\n",
      "  >>> vectors_test = vectorizer.transform(newsgroups_test.data)\n",
      "  >>> pred = clf.predict(vectors_test)\n",
      "  >>> metrics.f1_score(pred, newsgroups_test.target, average='macro')\n",
      "  0.77310...\n",
      "\n",
      "This classifier lost over a lot of its F-score, just because we removed\n",
      "metadata that has little to do with topic classification.\n",
      "It loses even more if we also strip this metadata from the training data:\n",
      "\n",
      "  >>> newsgroups_train = fetch_20newsgroups(subset='train',\n",
      "  ...                                       remove=('headers', 'footers', 'quotes'),\n",
      "  ...                                       categories=categories)\n",
      "  >>> vectors = vectorizer.fit_transform(newsgroups_train.data)\n",
      "  >>> clf = MultinomialNB(alpha=.01)\n",
      "  >>> clf.fit(vectors, newsgroups_train.target)\n",
      "  MultinomialNB(alpha=0.01, class_prior=None, fit_prior=True)\n",
      "\n",
      "  >>> vectors_test = vectorizer.transform(newsgroups_test.data)\n",
      "  >>> pred = clf.predict(vectors_test)\n",
      "  >>> metrics.f1_score(newsgroups_test.target, pred, average='macro')\n",
      "  0.76995...\n",
      "\n",
      "Some other classifiers cope better with this harder version of the task. Try\n",
      "running :ref:`sphx_glr_auto_examples_model_selection_grid_search_text_feature_extraction.py` with and without\n",
      "the ``--filter`` option to compare the results.\n",
      "\n",
      ".. topic:: Recommendation\n",
      "\n",
      "  When evaluating text classifiers on the 20 Newsgroups data, you\n",
      "  should strip newsgroup-related metadata. In scikit-learn, you can do this by\n",
      "  setting ``remove=('headers', 'footers', 'quotes')``. The F-score will be\n",
      "  lower because it is more realistic.\n",
      "\n",
      ".. topic:: Examples\n",
      "\n",
      "   * :ref:`sphx_glr_auto_examples_model_selection_grid_search_text_feature_extraction.py`\n",
      "\n",
      "   * :ref:`sphx_glr_auto_examples_text_plot_document_classification_20newsgroups.py`\n",
      "\n"
     ]
    }
   ],
   "source": [
    "print(data['DESCR'])"
   ]
  },
  {
   "cell_type": "code",
   "execution_count": 5,
   "metadata": {},
   "outputs": [
    {
     "data": {
      "text/plain": [
       "11314"
      ]
     },
     "execution_count": 5,
     "metadata": {},
     "output_type": "execute_result"
    }
   ],
   "source": [
    "W, y = data.data, data.target\n",
    "n_samples = y.shape[0]\n",
    "n_samples"
   ]
  },
  {
   "cell_type": "code",
   "execution_count": 6,
   "metadata": {},
   "outputs": [
    {
     "data": {
      "text/plain": [
       "array([ 7,  4,  4,  1, 14, 16, 13,  3,  2,  4])"
      ]
     },
     "execution_count": 6,
     "metadata": {},
     "output_type": "execute_result"
    }
   ],
   "source": [
    "y[:10] # news story categories"
   ]
  },
  {
   "cell_type": "code",
   "execution_count": 7,
   "metadata": {},
   "outputs": [
    {
     "data": {
      "text/plain": [
       "\"From: lerxst@wam.umd.edu (where's my thing)\\nSubject: WHAT car is this!?\\nNntp-Posting-Host: rac3.wam.umd.edu\\nOrganization: University of Maryland, College Park\\nLines: 15\\n\\n I was wondering if anyone out there could enlighten me on this car I saw\\nthe other day. It was a 2-door sports car, looked to be from the late 60s/\\nearly 70s. It was called a Bricklin. The doors were really small. In addition,\\nthe front bumper was separate from the rest of the body. This is \\nall I know. If anyone can tellme a model name, engine specs, years\\nof production, where this car is made, history, or whatever info you\\nhave on this funky looking car, please e-mail.\\n\\nThanks,\\n- IL\\n   ---- brought to you by your neighborhood Lerxst ----\\n\\n\\n\\n\\n\""
      ]
     },
     "execution_count": 7,
     "metadata": {},
     "output_type": "execute_result"
    }
   ],
   "source": [
    "doc = W[0]\n",
    "doc"
   ]
  },
  {
   "cell_type": "markdown",
   "metadata": {},
   "source": [
    "## Make a pandas dataframe"
   ]
  },
  {
   "cell_type": "code",
   "execution_count": 8,
   "metadata": {},
   "outputs": [
    {
     "data": {
      "text/html": [
       "<div>\n",
       "<style scoped>\n",
       "    .dataframe tbody tr th:only-of-type {\n",
       "        vertical-align: middle;\n",
       "    }\n",
       "\n",
       "    .dataframe tbody tr th {\n",
       "        vertical-align: top;\n",
       "    }\n",
       "\n",
       "    .dataframe thead th {\n",
       "        text-align: right;\n",
       "    }\n",
       "</style>\n",
       "<table border=\"1\" class=\"dataframe\">\n",
       "  <thead>\n",
       "    <tr style=\"text-align: right;\">\n",
       "      <th></th>\n",
       "      <th>text</th>\n",
       "      <th>topic</th>\n",
       "    </tr>\n",
       "  </thead>\n",
       "  <tbody>\n",
       "    <tr>\n",
       "      <th>0</th>\n",
       "      <td>From: lerxst@wam.umd.edu (where's my thing)\\nS...</td>\n",
       "      <td>7</td>\n",
       "    </tr>\n",
       "    <tr>\n",
       "      <th>1</th>\n",
       "      <td>From: guykuo@carson.u.washington.edu (Guy Kuo)...</td>\n",
       "      <td>4</td>\n",
       "    </tr>\n",
       "    <tr>\n",
       "      <th>2</th>\n",
       "      <td>From: twillis@ec.ecn.purdue.edu (Thomas E Will...</td>\n",
       "      <td>4</td>\n",
       "    </tr>\n",
       "    <tr>\n",
       "      <th>3</th>\n",
       "      <td>From: jgreen@amber (Joe Green)\\nSubject: Re: W...</td>\n",
       "      <td>1</td>\n",
       "    </tr>\n",
       "    <tr>\n",
       "      <th>4</th>\n",
       "      <td>From: jcm@head-cfa.harvard.edu (Jonathan McDow...</td>\n",
       "      <td>14</td>\n",
       "    </tr>\n",
       "  </tbody>\n",
       "</table>\n",
       "</div>"
      ],
      "text/plain": [
       "                                                text  topic\n",
       "0  From: lerxst@wam.umd.edu (where's my thing)\\nS...      7\n",
       "1  From: guykuo@carson.u.washington.edu (Guy Kuo)...      4\n",
       "2  From: twillis@ec.ecn.purdue.edu (Thomas E Will...      4\n",
       "3  From: jgreen@amber (Joe Green)\\nSubject: Re: W...      1\n",
       "4  From: jcm@head-cfa.harvard.edu (Jonathan McDow...     14"
      ]
     },
     "execution_count": 8,
     "metadata": {},
     "output_type": "execute_result"
    }
   ],
   "source": [
    "df = pd.DataFrame(W, columns=['text'])\n",
    "df['topic'] = y\n",
    "df.head()"
   ]
  },
  {
   "cell_type": "markdown",
   "metadata": {},
   "source": [
    "# Working with Text Data"
   ]
  },
  {
   "cell_type": "code",
   "execution_count": 9,
   "metadata": {},
   "outputs": [
    {
     "name": "stderr",
     "output_type": "stream",
     "text": [
      "[nltk_data] Downloading package stopwords to /Users/felix/nltk_data...\n",
      "[nltk_data]   Package stopwords is already up-to-date!\n",
      "[nltk_data] Downloading package punkt to /Users/felix/nltk_data...\n",
      "[nltk_data]   Package punkt is already up-to-date!\n"
     ]
    },
    {
     "data": {
      "text/plain": [
       "True"
      ]
     },
     "execution_count": 9,
     "metadata": {},
     "output_type": "execute_result"
    }
   ],
   "source": [
    "import nltk\n",
    "nltk.download('stopwords') \n",
    "nltk.download('punkt') "
   ]
  },
  {
   "cell_type": "markdown",
   "metadata": {},
   "source": [
    "## Iterate over some documents:"
   ]
  },
  {
   "cell_type": "code",
   "execution_count": 10,
   "metadata": {},
   "outputs": [],
   "source": [
    "from gensim.utils import simple_preprocess\n",
    "\n",
    "processed = []\n",
    "# iterate over rows\n",
    "for i, text in enumerate(W):\n",
    "    document = simple_preprocess(text) # get sentences/tokens\n",
    "    processed.append(document) # add to list\n",
    "    if i > 100:\n",
    "        break"
   ]
  },
  {
   "cell_type": "code",
   "execution_count": 11,
   "metadata": {},
   "outputs": [
    {
     "data": {
      "text/plain": [
       "['from',\n",
       " 'lerxst',\n",
       " 'wam',\n",
       " 'umd',\n",
       " 'edu',\n",
       " 'where',\n",
       " 'my',\n",
       " 'thing',\n",
       " 'subject',\n",
       " 'what']"
      ]
     },
     "execution_count": 11,
     "metadata": {},
     "output_type": "execute_result"
    }
   ],
   "source": [
    "# first 10 words from W[0]\n",
    "processed[0][:10]"
   ]
  },
  {
   "cell_type": "markdown",
   "metadata": {},
   "source": [
    "## Removing unicode characters"
   ]
  },
  {
   "cell_type": "code",
   "execution_count": 12,
   "metadata": {},
   "outputs": [
    {
     "name": "stdout",
     "output_type": "stream",
     "text": [
      "['Visualizations\\xa0'] ['Visualizations ']\n"
     ]
    }
   ],
   "source": [
    "# !pip install unidecode\n",
    "from unidecode import unidecode # package for removing unicode\n",
    "uncode_str = 'Visualizations\\xa0'\n",
    "fixed = unidecode(uncode_str) # example usage\n",
    "print([uncode_str],[fixed]) # print cleaned string (replaced with a space)"
   ]
  },
  {
   "cell_type": "code",
   "execution_count": 13,
   "metadata": {
    "pycharm": {
     "name": "#%%\n"
    }
   },
   "outputs": [],
   "source": [
    "decoded = []\n",
    "# iterate over rows\n",
    "for i, text in enumerate(W):\n",
    "    document = unidecode(text) # get sentences/tokens\n",
    "    decoded.append(document) # add to list\n",
    "    if i > 100:\n",
    "        break"
   ]
  },
  {
   "cell_type": "markdown",
   "metadata": {},
   "source": [
    "## Translation"
   ]
  },
  {
   "cell_type": "code",
   "execution_count": 14,
   "metadata": {},
   "outputs": [
    {
     "data": {
      "text/plain": [
       "'ko'"
      ]
     },
     "execution_count": 14,
     "metadata": {},
     "output_type": "execute_result"
    }
   ],
   "source": [
    "# !pip install googletrans\n",
    "from googletrans import Translator\n",
    "translator = Translator()\n",
    "lang = translator.detect('이 문장은 한글로 쓰여졌습니다.').lang\n",
    "lang"
   ]
  },
  {
   "cell_type": "code",
   "execution_count": 15,
   "metadata": {},
   "outputs": [
    {
     "data": {
      "text/plain": [
       "'This sentence is written in Hangul.'"
      ]
     },
     "execution_count": 15,
     "metadata": {},
     "output_type": "execute_result"
    }
   ],
   "source": [
    "eng = translator.translate('이 문장은 한글로 쓰여졌습니다.',\n",
    "                           src=lang,\n",
    "                           dest='en')\n",
    "eng.text"
   ]
  },
  {
   "cell_type": "markdown",
   "metadata": {},
   "source": [
    "# Quantity of Text"
   ]
  },
  {
   "cell_type": "markdown",
   "metadata": {},
   "source": [
    "Count words per document."
   ]
  },
  {
   "cell_type": "code",
   "execution_count": 16,
   "metadata": {},
   "outputs": [
    {
     "data": {
      "text/plain": [
       "<matplotlib.axes._subplots.AxesSubplot at 0x12cd4e450>"
      ]
     },
     "execution_count": 16,
     "metadata": {},
     "output_type": "execute_result"
    },
    {
     "data": {
      "image/png": "[encoded data removed]",
      "text/plain": [
       "<Figure size 432x288 with 1 Axes>"
      ]
     },
     "metadata": {
      "image/png": {
       "height": 250,
       "width": 402
      },
      "needs_background": "light"
     },
     "output_type": "display_data"
    }
   ],
   "source": [
    "def get_words_per_doc(txt):\n",
    "    # split text into words and count them.\n",
    "    return len(txt.split()) \n",
    "\n",
    "# apply to our data\n",
    "df['num_words'] = df['text'].apply(get_words_per_doc)\n",
    "df['num_words'].hist()"
   ]
  },
  {
   "cell_type": "code",
   "execution_count": 19,
   "metadata": {},
   "outputs": [
    {
     "data": {
      "text/plain": [
       "<seaborn.axisgrid.JointGrid at 0x121795890>"
      ]
     },
     "execution_count": 19,
     "metadata": {},
     "output_type": "execute_result"
    },
    {
     "data": {
      "image/png": "[encoded data removed]",
      "text/plain": [
       "<Figure size 432x432 with 3 Axes>"
      ]
     },
     "metadata": {
      "image/png": {
       "height": 423,
       "width": 413
      },
      "needs_background": "light"
     },
     "output_type": "display_data"
    }
   ],
   "source": [
    "df['log_words'] = np.log(df['num_words'])\n",
    "import seaborn as sns\n",
    "sns.jointplot(data=df, x='topic', y='log_words', kind='hex')"
   ]
  },
  {
   "cell_type": "markdown",
   "metadata": {},
   "source": [
    "Build a frequency distribution over words with `Counter`."
   ]
  },
  {
   "cell_type": "code",
   "execution_count": 20,
   "metadata": {},
   "outputs": [
    {
     "data": {
      "text/plain": [
       "[('the', 1357),\n",
       " ('of', 645),\n",
       " ('to', 578),\n",
       " ('and', 548),\n",
       " ('a', 532),\n",
       " ('in', 427),\n",
       " ('i', 370),\n",
       " ('is', 360),\n",
       " ('that', 300),\n",
       " ('for', 250),\n",
       " ('it', 193),\n",
       " ('on', 189),\n",
       " ('you', 173),\n",
       " ('have', 161),\n",
       " ('be', 158),\n",
       " ('-', 156),\n",
       " ('with', 156),\n",
       " ('this', 148),\n",
       " ('are', 142),\n",
       " ('>', 140)]"
      ]
     },
     "execution_count": 20,
     "metadata": {},
     "output_type": "execute_result"
    }
   ],
   "source": [
    "from collections import Counter\n",
    "freqs = Counter()\n",
    "for i, row in df.iterrows():\n",
    "    freqs.update(row['text'].lower().split())\n",
    "    if i > 100:\n",
    "        break\n",
    "freqs.most_common()[:20] # can use most frequent words as style/function words"
   ]
  },
  {
   "cell_type": "markdown",
   "metadata": {
    "toc-hr-collapsed": false
   },
   "source": [
    "# Dictionary / Matching Methods"
   ]
  },
  {
   "cell_type": "markdown",
   "metadata": {},
   "source": [
    "## Sentiment Analysis"
   ]
  },
  {
   "cell_type": "code",
   "execution_count": 31,
   "metadata": {},
   "outputs": [
    {
     "data": {
      "text/plain": [
       "Counter({'from:': 103,\n",
       "         'lerxst@wam.umd.edu': 1,\n",
       "         \"(where's\": 1,\n",
       "         'my': 84,\n",
       "         'thing)': 1,\n",
       "         'subject:': 103,\n",
       "         'what': 66,\n",
       "         'car': 22,\n",
       "         'is': 360,\n",
       "         'this!?': 1,\n",
       "         'nntp-posting-host:': 47,\n",
       "         'rac3.wam.umd.edu': 1,\n",
       "         'organization:': 99,\n",
       "         'university': 45,\n",
       "         'of': 645,\n",
       "         'maryland,': 1,\n",
       "         'college': 3,\n",
       "         'park': 2,\n",
       "         'lines:': 101,\n",
       "         '15': 9,\n",
       "         'i': 370,\n",
       "         'was': 115,\n",
       "         'wondering': 4,\n",
       "         'if': 86,\n",
       "         'anyone': 27,\n",
       "         'out': 54,\n",
       "         'there': 68,\n",
       "         'could': 31,\n",
       "         'enlighten': 1,\n",
       "         'me': 40,\n",
       "         'on': 189,\n",
       "         'this': 148,\n",
       "         'saw': 3,\n",
       "         'the': 1357,\n",
       "         'other': 43,\n",
       "         'day.': 2,\n",
       "         'it': 193,\n",
       "         'a': 532,\n",
       "         '2-door': 1,\n",
       "         'sports': 2,\n",
       "         'car,': 3,\n",
       "         'looked': 3,\n",
       "         'to': 578,\n",
       "         'be': 158,\n",
       "         'from': 87,\n",
       "         'late': 4,\n",
       "         '60s/': 1,\n",
       "         'early': 2,\n",
       "         '70s.': 1,\n",
       "         'called': 9,\n",
       "         'bricklin.': 1,\n",
       "         'doors': 1,\n",
       "         'were': 69,\n",
       "         'really': 19,\n",
       "         'small.': 1,\n",
       "         'in': 427,\n",
       "         'addition,': 1,\n",
       "         'front': 10,\n",
       "         'bumper': 1,\n",
       "         'separate': 3,\n",
       "         'rest': 5,\n",
       "         'body.': 1,\n",
       "         'all': 79,\n",
       "         'know.': 2,\n",
       "         'can': 75,\n",
       "         'tellme': 1,\n",
       "         'model': 4,\n",
       "         'name,': 1,\n",
       "         'engine': 6,\n",
       "         'specs,': 1,\n",
       "         'years': 13,\n",
       "         'production,': 1,\n",
       "         'where': 20,\n",
       "         'made,': 1,\n",
       "         'history,': 2,\n",
       "         'or': 91,\n",
       "         'whatever': 11,\n",
       "         'info': 10,\n",
       "         'you': 173,\n",
       "         'have': 161,\n",
       "         'funky': 1,\n",
       "         'looking': 7,\n",
       "         'please': 25,\n",
       "         'e-mail.': 1,\n",
       "         'thanks,': 5,\n",
       "         '-': 156,\n",
       "         'il': 3,\n",
       "         '----': 4,\n",
       "         'brought': 3,\n",
       "         'by': 109,\n",
       "         'your': 55,\n",
       "         'neighborhood': 1,\n",
       "         'lerxst': 1,\n",
       "         'guykuo@carson.u.washington.edu': 1,\n",
       "         '(guy': 1,\n",
       "         'kuo)': 2,\n",
       "         'si': 3,\n",
       "         'clock': 4,\n",
       "         'poll': 1,\n",
       "         'final': 10,\n",
       "         'call': 14,\n",
       "         'summary:': 6,\n",
       "         'for': 250,\n",
       "         'reports': 4,\n",
       "         'keywords:': 12,\n",
       "         'si,acceleration,clock,upgrade': 1,\n",
       "         'article-i.d.:': 8,\n",
       "         'shelley.1qvfo9innc3s': 1,\n",
       "         'washington': 2,\n",
       "         '11': 5,\n",
       "         'carson.u.washington.edu': 1,\n",
       "         'fair': 2,\n",
       "         'number': 16,\n",
       "         'brave': 1,\n",
       "         'souls': 1,\n",
       "         'who': 48,\n",
       "         'upgraded': 1,\n",
       "         'their': 57,\n",
       "         'oscillator': 1,\n",
       "         'shared': 5,\n",
       "         'experiences': 3,\n",
       "         'poll.': 2,\n",
       "         'send': 6,\n",
       "         'brief': 1,\n",
       "         'message': 4,\n",
       "         'detailing': 2,\n",
       "         'with': 156,\n",
       "         'procedure.': 1,\n",
       "         'top': 4,\n",
       "         'speed': 8,\n",
       "         'attained,': 1,\n",
       "         'cpu': 3,\n",
       "         'rated': 2,\n",
       "         'speed,': 2,\n",
       "         'add': 9,\n",
       "         'cards': 2,\n",
       "         'and': 548,\n",
       "         'adapters,': 1,\n",
       "         'heat': 3,\n",
       "         'sinks,': 1,\n",
       "         'hour': 1,\n",
       "         'usage': 2,\n",
       "         'per': 3,\n",
       "         'day,': 2,\n",
       "         'floppy': 1,\n",
       "         'disk': 4,\n",
       "         'functionality': 1,\n",
       "         '800': 2,\n",
       "         '1.4': 1,\n",
       "         'm': 1,\n",
       "         'floppies': 1,\n",
       "         'are': 142,\n",
       "         'especially': 3,\n",
       "         'requested.': 1,\n",
       "         'will': 78,\n",
       "         'summarizing': 2,\n",
       "         'next': 7,\n",
       "         'two': 21,\n",
       "         'days,': 2,\n",
       "         'so': 38,\n",
       "         'network': 6,\n",
       "         'knowledge': 1,\n",
       "         'base': 5,\n",
       "         'done': 5,\n",
       "         'upgrade': 2,\n",
       "         \"haven't\": 5,\n",
       "         'answered': 3,\n",
       "         'thanks.': 5,\n",
       "         'guy': 5,\n",
       "         'kuo': 1,\n",
       "         '<guykuo@u.washington.edu>': 1,\n",
       "         'twillis@ec.ecn.purdue.edu': 1,\n",
       "         '(thomas': 1,\n",
       "         'e': 5,\n",
       "         'willis)': 1,\n",
       "         'pb': 1,\n",
       "         'questions...': 1,\n",
       "         'purdue': 3,\n",
       "         'engineering': 7,\n",
       "         'computer': 21,\n",
       "         'distribution:': 28,\n",
       "         'usa': 17,\n",
       "         '36': 3,\n",
       "         'well': 15,\n",
       "         'folks,': 1,\n",
       "         'mac': 6,\n",
       "         'plus': 4,\n",
       "         'finally': 2,\n",
       "         'gave': 4,\n",
       "         'up': 37,\n",
       "         'ghost': 1,\n",
       "         'weekend': 1,\n",
       "         'after': 29,\n",
       "         'starting': 3,\n",
       "         'life': 5,\n",
       "         'as': 125,\n",
       "         '512k': 1,\n",
       "         'way': 14,\n",
       "         'back': 9,\n",
       "         '1985.': 1,\n",
       "         'sooo,': 1,\n",
       "         \"i'm\": 28,\n",
       "         'market': 1,\n",
       "         'new': 24,\n",
       "         'machine': 7,\n",
       "         'bit': 7,\n",
       "         'sooner': 1,\n",
       "         'than': 49,\n",
       "         'intended': 3,\n",
       "         'be...': 1,\n",
       "         'into': 36,\n",
       "         'picking': 1,\n",
       "         'powerbook': 3,\n",
       "         '160': 2,\n",
       "         'maybe': 7,\n",
       "         '180': 3,\n",
       "         'bunch': 3,\n",
       "         'questions': 3,\n",
       "         'that': 300,\n",
       "         '(hopefully)': 1,\n",
       "         'somebody': 3,\n",
       "         'answer:': 1,\n",
       "         '*': 48,\n",
       "         'does': 38,\n",
       "         'anybody': 8,\n",
       "         'know': 36,\n",
       "         'any': 61,\n",
       "         'dirt': 1,\n",
       "         'when': 55,\n",
       "         'round': 4,\n",
       "         'introductions': 1,\n",
       "         'expected?': 1,\n",
       "         \"i'd\": 12,\n",
       "         'heard': 8,\n",
       "         '185c': 1,\n",
       "         'supposed': 4,\n",
       "         'make': 13,\n",
       "         'an': 101,\n",
       "         'appearence': 1,\n",
       "         '\"this': 1,\n",
       "         'summer\"': 1,\n",
       "         'but': 107,\n",
       "         'anymore': 2,\n",
       "         'since': 11,\n",
       "         \"don't\": 38,\n",
       "         'access': 11,\n",
       "         'macleak,': 1,\n",
       "         'had': 57,\n",
       "         'more': 40,\n",
       "         'info...': 1,\n",
       "         'has': 61,\n",
       "         'rumors': 2,\n",
       "         'about': 73,\n",
       "         'price': 3,\n",
       "         'drops': 1,\n",
       "         'line': 5,\n",
       "         'like': 38,\n",
       "         'ones': 3,\n",
       "         \"duo's\": 1,\n",
       "         'just': 32,\n",
       "         'went': 10,\n",
       "         'through': 13,\n",
       "         'recently?': 1,\n",
       "         \"what's\": 6,\n",
       "         'impression': 3,\n",
       "         'display': 4,\n",
       "         '180?': 1,\n",
       "         'probably': 9,\n",
       "         'swing': 2,\n",
       "         'got': 14,\n",
       "         '80mb': 1,\n",
       "         'rather': 10,\n",
       "         '120,': 1,\n",
       "         'feel': 4,\n",
       "         'how': 25,\n",
       "         'much': 19,\n",
       "         '\"better\"': 2,\n",
       "         '(yea,': 1,\n",
       "         'looks': 5,\n",
       "         'great': 8,\n",
       "         'store,': 1,\n",
       "         '\"wow\"': 1,\n",
       "         'good?).': 1,\n",
       "         'solicit': 1,\n",
       "         'some': 44,\n",
       "         'opinions': 8,\n",
       "         'people': 52,\n",
       "         'use': 34,\n",
       "         'day-to-day': 1,\n",
       "         'its': 30,\n",
       "         'worth': 3,\n",
       "         'taking': 7,\n",
       "         'size': 7,\n",
       "         'money': 6,\n",
       "         'hit': 4,\n",
       "         'get': 38,\n",
       "         'active': 3,\n",
       "         'display?': 1,\n",
       "         '(i': 5,\n",
       "         'realize': 2,\n",
       "         'real': 10,\n",
       "         'subjective': 1,\n",
       "         'question,': 3,\n",
       "         \"i've\": 18,\n",
       "         'only': 36,\n",
       "         'played': 3,\n",
       "         'around': 10,\n",
       "         'machines': 2,\n",
       "         'store': 1,\n",
       "         'breifly': 1,\n",
       "         'figured': 2,\n",
       "         'actually': 9,\n",
       "         'uses': 15,\n",
       "         'daily': 1,\n",
       "         'might': 16,\n",
       "         'prove': 2,\n",
       "         'helpful).': 1,\n",
       "         'hellcats': 1,\n",
       "         'perform?': 1,\n",
       "         ';)': 1,\n",
       "         'thanks': 7,\n",
       "         'advance': 1,\n",
       "         'email,': 2,\n",
       "         \"i'll\": 6,\n",
       "         'post': 16,\n",
       "         'summary': 8,\n",
       "         '(news': 1,\n",
       "         'reading': 1,\n",
       "         'time': 14,\n",
       "         'at': 87,\n",
       "         'premium': 1,\n",
       "         'finals': 1,\n",
       "         'corner...': 1,\n",
       "         ':(': 1,\n",
       "         ')': 9,\n",
       "         '--': 41,\n",
       "         'tom': 5,\n",
       "         'willis': 1,\n",
       "         '\\\\': 10,\n",
       "         'twillis@ecn.purdue.edu': 1,\n",
       "         'electrical': 3,\n",
       "         '---------------------------------------------------------------------------': 1,\n",
       "         '\"convictions': 1,\n",
       "         'dangerous': 2,\n",
       "         'enemies': 1,\n",
       "         'truth': 4,\n",
       "         'lies.\"': 1,\n",
       "         'f.': 1,\n",
       "         'w.': 4,\n",
       "         'nietzsche': 1,\n",
       "         'jgreen@amber': 1,\n",
       "         '(joe': 2,\n",
       "         'green)': 1,\n",
       "         're:': 75,\n",
       "         'weitek': 2,\n",
       "         'p9000': 2,\n",
       "         '?': 8,\n",
       "         'harris': 2,\n",
       "         'systems': 9,\n",
       "         'division': 10,\n",
       "         '14': 6,\n",
       "         'world': 28,\n",
       "         'amber.ssd.csd.harris.com': 1,\n",
       "         'x-newsreader:': 10,\n",
       "         'tin': 8,\n",
       "         '[version': 7,\n",
       "         '1.1': 7,\n",
       "         'pl9]': 3,\n",
       "         'robert': 3,\n",
       "         'j.c.': 1,\n",
       "         'kyanko': 1,\n",
       "         '(rob@rjck.uucp)': 1,\n",
       "         'wrote:': 10,\n",
       "         '>': 140,\n",
       "         'abraxis@iastate.edu': 1,\n",
       "         'writes': 2,\n",
       "         'article': 50,\n",
       "         '<abraxis.734340159@class1.iastate.edu>:': 1,\n",
       "         'graphics': 3,\n",
       "         'chip?': 1,\n",
       "         'far': 5,\n",
       "         'low-level': 1,\n",
       "         'stuff': 5,\n",
       "         'goes,': 2,\n",
       "         'pretty': 4,\n",
       "         'nice.': 1,\n",
       "         \"it's\": 25,\n",
       "         'quadrilateral': 1,\n",
       "         'fill': 1,\n",
       "         'command': 7,\n",
       "         'requires': 2,\n",
       "         'four': 6,\n",
       "         'points.': 2,\n",
       "         'do': 59,\n",
       "         \"weitek's\": 1,\n",
       "         'address/phone': 1,\n",
       "         'number?': 1,\n",
       "         'information': 17,\n",
       "         'chip.': 2,\n",
       "         'joe': 5,\n",
       "         'green': 3,\n",
       "         'corporation': 2,\n",
       "         'jgreen@csd.harris.com': 1,\n",
       "         '\"the': 10,\n",
       "         'thing': 8,\n",
       "         'scares': 1,\n",
       "         'person': 6,\n",
       "         'no': 56,\n",
       "         'sense': 1,\n",
       "         'humor.\"': 1,\n",
       "         'jonathan': 3,\n",
       "         'winters': 1,\n",
       "         'jcm@head-cfa.harvard.edu': 1,\n",
       "         '(jonathan': 2,\n",
       "         'mcdowell)': 1,\n",
       "         'shuttle': 12,\n",
       "         'launch': 12,\n",
       "         'question': 9,\n",
       "         'smithsonian': 2,\n",
       "         'astrophysical': 2,\n",
       "         'observatory,': 2,\n",
       "         'cambridge,': 2,\n",
       "         'ma,': 1,\n",
       "         'sci': 2,\n",
       "         '23': 3,\n",
       "         '<c5owcb.n3p@world.std.com>,': 1,\n",
       "         'tombaker@world.std.com': 1,\n",
       "         '(tom': 3,\n",
       "         'baker):': 1,\n",
       "         '>>in': 3,\n",
       "         '<c5jlwx.4h9.1@cs.cmu.edu>,': 1,\n",
       "         'etrat@ttacs1.ttu.edu': 1,\n",
       "         '(pack': 1,\n",
       "         'rat)': 1,\n",
       "         'writes...': 2,\n",
       "         '>>>\"clear': 1,\n",
       "         'caution': 1,\n",
       "         '&': 17,\n",
       "         'warning': 3,\n",
       "         'memory.': 2,\n",
       "         'verify': 1,\n",
       "         'unexpected': 1,\n",
       "         '>>>errors.': 1,\n",
       "         '...\".': 1,\n",
       "         'am': 40,\n",
       "         '\"expected': 1,\n",
       "         'error\"': 1,\n",
       "         '>>>be.': 1,\n",
       "         'sorry': 1,\n",
       "         'dumb': 3,\n",
       "         'parity': 2,\n",
       "         'errors': 1,\n",
       "         'memory': 12,\n",
       "         'previously': 1,\n",
       "         'known': 7,\n",
       "         'conditions': 2,\n",
       "         'waivered.': 1,\n",
       "         '\"yes': 1,\n",
       "         'error,': 2,\n",
       "         'we': 37,\n",
       "         'already': 5,\n",
       "         'knew': 1,\n",
       "         'it\"': 1,\n",
       "         'curious': 1,\n",
       "         'meaning': 2,\n",
       "         'quote': 3,\n",
       "         'is.': 4,\n",
       "         'understanding': 11,\n",
       "         \"'expected\": 1,\n",
       "         \"errors'\": 1,\n",
       "         'basically': 1,\n",
       "         'bugs': 2,\n",
       "         'system': 18,\n",
       "         'software': 13,\n",
       "         'things': 17,\n",
       "         'checked': 1,\n",
       "         'right': 14,\n",
       "         'values': 2,\n",
       "         'yet': 7,\n",
       "         'because': 35,\n",
       "         'they': 66,\n",
       "         \"aren't\": 3,\n",
       "         'set': 7,\n",
       "         'till': 2,\n",
       "         'launch,': 2,\n",
       "         'suchlike.': 1,\n",
       "         'fix': 3,\n",
       "         'code': 10,\n",
       "         'possibly': 2,\n",
       "         'introduce': 1,\n",
       "         'bugs,': 1,\n",
       "         'tell': 9,\n",
       "         'crew': 5,\n",
       "         \"'ok,\": 1,\n",
       "         'see': 17,\n",
       "         'no.': 6,\n",
       "         '213': 1,\n",
       "         'before': 15,\n",
       "         'liftoff,': 1,\n",
       "         'ignore': 1,\n",
       "         \"it'.\": 1,\n",
       "         'dfo@vttoulu.tko.vtt.fi': 2,\n",
       "         '(foxvog': 2,\n",
       "         'douglas)': 2,\n",
       "         'rewording': 1,\n",
       "         'second': 5,\n",
       "         'amendment': 1,\n",
       "         '(ideas)': 1,\n",
       "         'vtt': 1,\n",
       "         '58': 1,\n",
       "         '<1r1eu1$4t@transfer.stratus.com>': 1,\n",
       "         'cdt@sw.stratus.com': 2,\n",
       "         '(c.': 2,\n",
       "         'd.': 3,\n",
       "         'tavares)': 2,\n",
       "         'writes:': 52,\n",
       "         '>in': 12,\n",
       "         '<1993apr20.083057.16899@ousrvr.oulu.fi>,': 1,\n",
       "         '>>': 59,\n",
       "         '<1qv87v$4j3@transfer.stratus.com>': 1,\n",
       "         '<c5n3gi.f8f@ulowell.ulowell.edu>,': 1,\n",
       "         'jrutledg@cs.ulowell.edu': 1,\n",
       "         '(john': 5,\n",
       "         'lawrence': 1,\n",
       "         'rutledge)': 1,\n",
       "         'massive': 2,\n",
       "         'destructive': 1,\n",
       "         'power': 14,\n",
       "         'many': 29,\n",
       "         'modern': 7,\n",
       "         'weapons,': 4,\n",
       "         'makes': 7,\n",
       "         'cost': 5,\n",
       "         'accidental': 1,\n",
       "         'crimial': 1,\n",
       "         'these': 32,\n",
       "         'weapons': 8,\n",
       "         'great.': 2,\n",
       "         'mass': 8,\n",
       "         'destruction': 6,\n",
       "         'need': 16,\n",
       "         'control': 9,\n",
       "         'government': 11,\n",
       "         'only.': 2,\n",
       "         'individual': 2,\n",
       "         'would': 73,\n",
       "         'result': 4,\n",
       "         'needless': 2,\n",
       "         'deaths': 2,\n",
       "         'millions.': 1,\n",
       "         'keep': 8,\n",
       "         'bear': 1,\n",
       "         'non-existant.': 1,\n",
       "         '>thanks': 2,\n",
       "         'stating': 1,\n",
       "         \"you're\": 7,\n",
       "         'coming': 3,\n",
       "         'from.': 1,\n",
       "         'say,': 3,\n",
       "         '>disagree': 1,\n",
       "         'every': 13,\n",
       "         'count.': 1,\n",
       "         'believe': 9,\n",
       "         'individuals': 3,\n",
       "         'should': 25,\n",
       "         'own': 14,\n",
       "         'destruction?': 1,\n",
       "         'find': 11,\n",
       "         'hard': 7,\n",
       "         'support': 5,\n",
       "         \"neighbor's\": 1,\n",
       "         'nuclear': 9,\n",
       "         'biological': 1,\n",
       "         'nerve': 1,\n",
       "         'gas': 5,\n",
       "         'his/her': 1,\n",
       "         'property.': 2,\n",
       "         'cannot': 5,\n",
       "         'even': 25,\n",
       "         'agree': 7,\n",
       "         'keeping': 3,\n",
       "         'hands': 6,\n",
       "         'individuals,': 1,\n",
       "         'hope': 8,\n",
       "         'us?': 1,\n",
       "         '>i': 16,\n",
       "         'sign': 1,\n",
       "         'blank': 1,\n",
       "         'checks.': 1,\n",
       "         'course.': 2,\n",
       "         'term': 3,\n",
       "         'must': 8,\n",
       "         'rigidly': 1,\n",
       "         'defined': 4,\n",
       "         'bill.': 1,\n",
       "         '>when': 2,\n",
       "         'doug': 3,\n",
       "         'foxvog': 2,\n",
       "         'says': 5,\n",
       "         '\"weapons': 3,\n",
       "         'destruction,\"': 2,\n",
       "         'he': 40,\n",
       "         'means': 5,\n",
       "         'cbw': 1,\n",
       "         '>nukes.': 1,\n",
       "         'sarah': 1,\n",
       "         'brady': 1,\n",
       "         'destruction\"': 1,\n",
       "         'she': 3,\n",
       "         '>street': 1,\n",
       "         'sweeper': 1,\n",
       "         'shotguns': 1,\n",
       "         'semi-automatic': 1,\n",
       "         'sks': 1,\n",
       "         'rifles.': 1,\n",
       "         'doubt': 4,\n",
       "         'that.': 2,\n",
       "         'using': 19,\n",
       "         'allegedly': 1,\n",
       "         'her,': 1,\n",
       "         'up?': 2,\n",
       "         'john': 8,\n",
       "         '>lawrence': 1,\n",
       "         'rutledge': 2,\n",
       "         'then': 27,\n",
       "         'immediately': 2,\n",
       "         '>follows': 1,\n",
       "         'with:': 1,\n",
       "         '>>>': 21,\n",
       "         'us': 7,\n",
       "         'thousands': 2,\n",
       "         'killed': 3,\n",
       "         'each': 5,\n",
       "         'year': 10,\n",
       "         'handguns,': 1,\n",
       "         'easily': 5,\n",
       "         'reduced': 2,\n",
       "         'putting': 2,\n",
       "         'reasonable': 3,\n",
       "         'restrictions': 1,\n",
       "         'them.': 8,\n",
       "         '>...what': 1,\n",
       "         'mean': 4,\n",
       "         'term?': 1,\n",
       "         'read': 6,\n",
       "         'presenting': 2,\n",
       "         'first': 23,\n",
       "         'argument': 5,\n",
       "         '(as': 7,\n",
       "         'commonly': 1,\n",
       "         'understood)': 1,\n",
       "         'switching': 2,\n",
       "         'topics.': 1,\n",
       "         'point': 8,\n",
       "         'evidently': 1,\n",
       "         'show': 6,\n",
       "         'not': 126,\n",
       "         'allowed,': 1,\n",
       "         'later': 3,\n",
       "         'analysis': 3,\n",
       "         'was,': 1,\n",
       "         'given': 4,\n",
       "         'understanding,': 2,\n",
       "         'consider': 6,\n",
       "         'another': 17,\n",
       "         'class.': 2,\n",
       "         '>cdt@rocket.sw.stratus.com': 1,\n",
       "         '--if': 1,\n",
       "         'speak': 1,\n",
       "         'company,': 1,\n",
       "         '>or': 1,\n",
       "         'cdt@vos.stratus.com': 1,\n",
       "         'write': 5,\n",
       "         'today': 4,\n",
       "         'special': 2,\n",
       "         \"investors'\": 1,\n",
       "         'packet...': 1,\n",
       "         'douglas.foxvog@vtt.fi': 1,\n",
       "         'bmdelane@quads.uchicago.edu': 1,\n",
       "         '(brian': 1,\n",
       "         'manning': 1,\n",
       "         'delaney)': 1,\n",
       "         'brain': 2,\n",
       "         'tumor': 1,\n",
       "         'treatment': 4,\n",
       "         '(thanks)': 1,\n",
       "         'reply-to:': 19,\n",
       "         'bmdelane@midway.uchicago.edu': 1,\n",
       "         'chicago': 5,\n",
       "         '12': 4,\n",
       "         'few': 11,\n",
       "         'responded': 1,\n",
       "         'request': 2,\n",
       "         'astrocytomas': 1,\n",
       "         'whom': 1,\n",
       "         \"couldn't\": 6,\n",
       "         'thank': 3,\n",
       "         'directly': 3,\n",
       "         'mail-bouncing': 1,\n",
       "         'probs': 1,\n",
       "         '(sean,': 1,\n",
       "         'debra,': 1,\n",
       "         'sharon).': 1,\n",
       "         'thought': 7,\n",
       "         'publicly': 1,\n",
       "         'everyone.': 1,\n",
       "         'thanks!': 2,\n",
       "         \"(i'm\": 2,\n",
       "         'sure': 10,\n",
       "         'glad': 2,\n",
       "         'accidentally': 1,\n",
       "         '\"rn\"': 1,\n",
       "         'instead': 3,\n",
       "         '\"rm\"': 1,\n",
       "         'trying': 11,\n",
       "         'delete': 3,\n",
       "         'file': 12,\n",
       "         'last': 14,\n",
       "         'september.': 1,\n",
       "         '\"hmmm...': 1,\n",
       "         \"'news?'\": 1,\n",
       "         'this?\"....)': 1,\n",
       "         '-brian': 1,\n",
       "         'bgrubb@dante.nmsu.edu': 2,\n",
       "         '(grubb)': 2,\n",
       "         'ide': 2,\n",
       "         'vs': 2,\n",
       "         'scsi': 14,\n",
       "         'mexico': 3,\n",
       "         'state': 20,\n",
       "         'university,': 5,\n",
       "         'las': 2,\n",
       "         'cruces,': 1,\n",
       "         'nm': 1,\n",
       "         '44': 2,\n",
       "         'dante.nmsu.edu': 1,\n",
       "         'dxb132@psuvm.psu.edu': 1,\n",
       "         '<1qlbrlinn7rk@dns1.nmsu.edu>,': 1,\n",
       "         'says:': 2,\n",
       "         'pc': 8,\n",
       "         'magazine': 6,\n",
       "         'april': 6,\n",
       "         '27,': 1,\n",
       "         '1993:29': 1,\n",
       "         '\"although': 2,\n",
       "         'twice': 2,\n",
       "         'fasst': 1,\n",
       "         'esdi,': 1,\n",
       "         '>>20%': 1,\n",
       "         'faster': 6,\n",
       "         'ide,': 1,\n",
       "         '7': 7,\n",
       "         'devices': 3,\n",
       "         'acceptance': 2,\n",
       "         '...has': 1,\n",
       "         '>>long': 1,\n",
       "         'been': 36,\n",
       "         'stalled': 1,\n",
       "         'incompatability': 1,\n",
       "         'problems': 10,\n",
       "         'installation': 2,\n",
       "         'headaches.\"': 1,\n",
       "         'love': 5,\n",
       "         'writers': 2,\n",
       "         'stupid': 2,\n",
       "         'statements': 3,\n",
       "         '>performance.': 1,\n",
       "         'those': 28,\n",
       "         'numbers?': 2,\n",
       "         'list': 14,\n",
       "         'actual': 2,\n",
       "         '>performance': 1,\n",
       "         'ranges,': 2,\n",
       "         'which': 50,\n",
       "         'convince': 1,\n",
       "         'such': 22,\n",
       "         '>statement': 1,\n",
       "         'absurd:': 1,\n",
       "         '>scsi-i': 1,\n",
       "         'ranges': 3,\n",
       "         '0-5mb/s.': 1,\n",
       "         '>scsi-ii': 1,\n",
       "         '0-40mb/s.': 1,\n",
       "         '>ide': 1,\n",
       "         '0-8.3mb/s.': 1,\n",
       "         '>esdi': 1,\n",
       "         'always': 12,\n",
       "         '1.25mb/s': 1,\n",
       "         '(although': 3,\n",
       "         'non-standard': 1,\n",
       "         'versions)': 1,\n",
       "         'shows': 1,\n",
       "         'scsi.': 1,\n",
       "         'scsi-1': 10,\n",
       "         '{with': 2,\n",
       "         'controler': 2,\n",
       "         'chip}': 1,\n",
       "         'range': 1,\n",
       "         'indeed': 2,\n",
       "         '0-5mb/s': 1,\n",
       "         'scsi-2': 8,\n",
       "         'controller': 5,\n",
       "         'chip}:': 1,\n",
       "         '4-6mb/s': 2,\n",
       "         '10mb/s': 4,\n",
       "         'burst': 5,\n",
       "         '{8-bit}': 1,\n",
       "         'note': 6,\n",
       "         'increase': 3,\n",
       "         'quadra': 5,\n",
       "         'version': 2,\n",
       "         'exist.': 1,\n",
       "         'too.': 1,\n",
       "         '{8-bit/scsi-1': 1,\n",
       "         'mode}:': 2,\n",
       "         '{16-bit/wide': 1,\n",
       "         'fast': 5,\n",
       "         '8-12mb/s': 1,\n",
       "         '20mb/s': 1,\n",
       "         '{32-bit/wide': 1,\n",
       "         'fast}:': 1,\n",
       "         '15-20mb/s': 1,\n",
       "         '40mb/s': 1,\n",
       "         'data': 14,\n",
       "         'esdi\"': 1,\n",
       "         'correct': 3,\n",
       "         'chip': 8,\n",
       "         'reach': 2,\n",
       "         '\"20%': 1,\n",
       "         'ide\"': 1,\n",
       "         '{120%': 1,\n",
       "         '8.3': 1,\n",
       "         '9.96}.': 1,\n",
       "         'facts': 1,\n",
       "         'posted': 4,\n",
       "         'newsgroup': 1,\n",
       "         'ibm': 5,\n",
       "         'sheet': 1,\n",
       "         '{available': 1,\n",
       "         'ftp': 5,\n",
       "         'sumex-aim.stanford.edu': 1,\n",
       "         '(36.44.0.6)': 1,\n",
       "         'info-mac/report': 1,\n",
       "         'mac-ibm-compare[version': 1,\n",
       "         '#].txt': 1,\n",
       "         '(it': 2,\n",
       "         '173': 1,\n",
       "         '161': 1,\n",
       "         'may': 29,\n",
       "         'still': 22,\n",
       "         'there)}': 1,\n",
       "         'part': 9,\n",
       "         'problem': 10,\n",
       "         'both': 14,\n",
       "         'inconsiant': 1,\n",
       "         'which.': 1,\n",
       "         'though': 4,\n",
       "         'documented': 1,\n",
       "         'apple': 2,\n",
       "         'salesperson': 1,\n",
       "         'said': 8,\n",
       "         '\"it': 1,\n",
       "         'chip\"': 1,\n",
       "         '{not': 1,\n",
       "         '6mb/s,': 1,\n",
       "         'not.': 2,\n",
       "         '5mb/s': 1,\n",
       "         'maximum': 2,\n",
       "         'synchronous': 2,\n",
       "         'ansynchronous': 1,\n",
       "         'slower}': 1,\n",
       "         'seems': 11,\n",
       "         'interface': 6,\n",
       "         'think': 45,\n",
       "         \"'scsi-1'\": 1,\n",
       "         'driven': 8,\n",
       "         '8-bit': 1,\n",
       "         'mode': 5,\n",
       "         '{which': 1,\n",
       "         'true': 5,\n",
       "         'go}.': 1,\n",
       "         'slam': 1,\n",
       "         'understand': 6,\n",
       "         'going': 14,\n",
       "         'on.': 3,\n",
       "         'one': 68,\n",
       "         'reference': 4,\n",
       "         \"quadra's\": 1,\n",
       "         '(digital': 1,\n",
       "         'review,': 1,\n",
       "         'oct': 2,\n",
       "         '21,': 1,\n",
       "         '1991': 2,\n",
       "         'v8': 1,\n",
       "         'n33': 1,\n",
       "         'p8(1)).': 1,\n",
       "         'holmes7000@iscsvax.uni.edu': 1,\n",
       "         'win': 4,\n",
       "         '3.0': 3,\n",
       "         'icon': 2,\n",
       "         'help': 13,\n",
       "         'please!': 1,\n",
       "         'northern': 3,\n",
       "         'iowa': 2,\n",
       "         '10': 9,\n",
       "         'downloaded': 1,\n",
       "         'several': 16,\n",
       "         'icons': 2,\n",
       "         \"bmp's\": 1,\n",
       "         \"can't\": 8,\n",
       "         'figure': 7,\n",
       "         'change': 4,\n",
       "         '\"wallpaper\"': 1,\n",
       "         'icons.': 1,\n",
       "         'appreciated.': 4,\n",
       "         'thanx,': 1,\n",
       "         '-brando': 1,\n",
       "         'ps': 1,\n",
       "         'e-mail': 4,\n",
       "         'kerr@ux1.cso.uiuc.edu': 1,\n",
       "         '(stan': 1,\n",
       "         'kerr)': 1,\n",
       "         'sigma': 2,\n",
       "         'designs': 2,\n",
       "         'double': 4,\n",
       "         'up??': 1,\n",
       "         'ux1.c52u8x.b62': 1,\n",
       "         'illinois': 3,\n",
       "         'urbana': 1,\n",
       "         '29': 2,\n",
       "         'jap10@po.cwru.edu': 1,\n",
       "         '(joseph': 2,\n",
       "         'a.': 3,\n",
       "         'pellettiere)': 1,\n",
       "         'board.': 3,\n",
       "         'hardware': 4,\n",
       "         'compression': 4,\n",
       "         'board': 8,\n",
       "         'works': 3,\n",
       "         'autodoubler,': 2,\n",
       "         'this.': 5,\n",
       "         'also': 23,\n",
       "         'cost?': 1,\n",
       "         'over': 24,\n",
       "         'year,': 5,\n",
       "         'work': 10,\n",
       "         'diskdoubler,': 1,\n",
       "         'due': 6,\n",
       "         'licensing': 2,\n",
       "         'stac': 2,\n",
       "         'technologies,': 1,\n",
       "         'owners': 2,\n",
       "         \"board's\": 2,\n",
       "         'technology.': 2,\n",
       "         'writing': 2,\n",
       "         'memory;': 1,\n",
       "         'lost': 4,\n",
       "         'reference.': 1,\n",
       "         'wrong.)': 1,\n",
       "         'board,': 2,\n",
       "         'being': 24,\n",
       "         'lost,': 1,\n",
       "         'say': 14,\n",
       "         'whether': 5,\n",
       "         'fault': 2,\n",
       "         'something': 11,\n",
       "         'else;': 1,\n",
       "         'however,': 11,\n",
       "         'decompress': 2,\n",
       "         'troubled': 1,\n",
       "         'recompress': 1,\n",
       "         'without': 15,\n",
       "         'usually': 5,\n",
       "         'reappears.': 1,\n",
       "         'above': 7,\n",
       "         'mentioned': 6,\n",
       "         'problem,': 2,\n",
       "         'freeware': 1,\n",
       "         'expansion': 1,\n",
       "         'utility': 4,\n",
       "         'dd': 1,\n",
       "         'expand': 1,\n",
       "         'board-compressed': 1,\n",
       "         'unless': 6,\n",
       "         'installed.': 1,\n",
       "         'product': 7,\n",
       "         'now,': 5,\n",
       "         'unlikely': 1,\n",
       "         'holes': 3,\n",
       "         'autodoubler/diskdoubler': 1,\n",
       "         'related': 3,\n",
       "         'fixed.': 1,\n",
       "         'sad,': 2,\n",
       "         'very': 32,\n",
       "         'reluctant': 2,\n",
       "         'buy': 13,\n",
       "         \"stac's\": 1,\n",
       "         \"they're\": 2,\n",
       "         'stinky.': 1,\n",
       "         '(but': 3,\n",
       "         ...})"
      ]
     },
     "execution_count": 31,
     "metadata": {},
     "output_type": "execute_result"
    }
   ],
   "source": [
    "freqs"
   ]
  },
  {
   "cell_type": "code",
   "execution_count": 21,
   "metadata": {
    "pycharm": {
     "name": "#%%\n"
    }
   },
   "outputs": [
    {
     "name": "stdout",
     "output_type": "stream",
     "text": [
      "{'neg': 0.012, 'neu': 0.916, 'pos': 0.072, 'compound': 0.807}\n"
     ]
    },
    {
     "name": "stderr",
     "output_type": "stream",
     "text": [
      "[nltk_data] Downloading package vader_lexicon to\n",
      "[nltk_data]     /Users/felix/nltk_data...\n",
      "[nltk_data]   Package vader_lexicon is already up-to-date!\n"
     ]
    }
   ],
   "source": [
    "# Dictionary-Based Sentiment Analysis\n",
    "nltk.download('vader_lexicon')\n",
    "from nltk.sentiment.vader import SentimentIntensityAnalyzer\n",
    "\n",
    "doc = W[0]\n",
    "sid = SentimentIntensityAnalyzer()\n",
    "polarity = sid.polarity_scores(doc)\n",
    "print(polarity)"
   ]
  },
  {
   "cell_type": "code",
   "execution_count": 25,
   "metadata": {},
   "outputs": [],
   "source": [
    "# sample 20% of the dataset\n",
    "dfs = df.sample(frac=.2) \n",
    "\n",
    "# apply compound sentiment score to data-frame\n",
    "def get_sentiment(snippet):\n",
    "    return sid.polarity_scores(snippet)['compound']\n",
    "dfs['sentiment'] = dfs['text'].apply(get_sentiment)\n",
    "dfs.sort_values('sentiment', inplace=True)"
   ]
  },
  {
   "cell_type": "code",
   "execution_count": 26,
   "metadata": {},
   "outputs": [
    {
     "data": {
      "text/plain": [
       "['\\nSubject: CLINTON: AM Press Briefing by Dee Dee Myers -- 4.15.93\\nOrganization: Project GNU, Free Sof',\n",
       " '10 Medical Newsletter, Part 2/4\\nReply-To: david@stat.com (David Dodell)\\nDistribution: world\\nOrganiza',\n",
       " 'posting: 10th International Obfuscated C Code Contest rules (1 of 2)\\nExpires: 8 May 93 00:00:00 GMT\\n',\n",
       " 'Apr 93) Computer Graphics Resource Listing : WEEKLY [part 1/3]\\nLines: 1566\\nReply-To: nfotis@theseas.',\n",
       " 'ge compression: Frequently Asked Questions\\nSummary: Useful info about JPEG (JPG) image files and pro']"
      ]
     },
     "execution_count": 26,
     "metadata": {},
     "output_type": "execute_result"
    }
   ],
   "source": [
    "# print beginning of most positive documents\n",
    "[x[50:150] for x  in dfs[-5:]['text']]"
   ]
  },
  {
   "cell_type": "code",
   "execution_count": 27,
   "metadata": {},
   "outputs": [
    {
     "data": {
      "text/plain": [
       "['ell\\nOrganization: FNAL/AD/Net\\nLines: 139\\n\\nI dreamed that the great judgment morning had dawned,\\n    ',\n",
       " 'year the Turkish Nation is mourning and praying again for...\\nReply-To: sera@zuma.UUCP (Serdar Argic)',\n",
       " 'ct: Gun Talk -- State legislative update\\nOrganization: Ideology Busters, Inc.\\nDistribution: usa\\nKeyw',\n",
       " ': My Gun is like my American Express Car\\nLines: 137\\nOrganization: University of Tennessee Division o',\n",
       " 'ian scholars on the extermination of 2.5 million Muslim people.\\nReply-To: sera@zuma.UUCP (Serdar Arg']"
      ]
     },
     "execution_count": 27,
     "metadata": {},
     "output_type": "execute_result"
    }
   ],
   "source": [
    "# print beginning of most negative documents\n",
    "[x[50:150] for x  in dfs[:5]['text']]"
   ]
  },
  {
   "cell_type": "markdown",
   "metadata": {},
   "source": [
    "## StopWords"
   ]
  },
  {
   "cell_type": "code",
   "execution_count": 28,
   "metadata": {
    "scrolled": true
   },
   "outputs": [
    {
     "data": {
      "text/plain": [
       "{'a',\n",
       " 'about',\n",
       " 'above',\n",
       " 'after',\n",
       " 'again',\n",
       " 'against',\n",
       " 'ain',\n",
       " 'all',\n",
       " 'am',\n",
       " 'an',\n",
       " 'and',\n",
       " 'any',\n",
       " 'are',\n",
       " 'aren',\n",
       " \"aren't\",\n",
       " 'as',\n",
       " 'at',\n",
       " 'be',\n",
       " 'because',\n",
       " 'been',\n",
       " 'before',\n",
       " 'being',\n",
       " 'below',\n",
       " 'between',\n",
       " 'both',\n",
       " 'but',\n",
       " 'by',\n",
       " 'can',\n",
       " 'couldn',\n",
       " \"couldn't\",\n",
       " 'd',\n",
       " 'did',\n",
       " 'didn',\n",
       " \"didn't\",\n",
       " 'do',\n",
       " 'does',\n",
       " 'doesn',\n",
       " \"doesn't\",\n",
       " 'doing',\n",
       " 'don',\n",
       " \"don't\",\n",
       " 'down',\n",
       " 'during',\n",
       " 'each',\n",
       " 'few',\n",
       " 'for',\n",
       " 'from',\n",
       " 'further',\n",
       " 'had',\n",
       " 'hadn',\n",
       " \"hadn't\",\n",
       " 'has',\n",
       " 'hasn',\n",
       " \"hasn't\",\n",
       " 'have',\n",
       " 'haven',\n",
       " \"haven't\",\n",
       " 'having',\n",
       " 'he',\n",
       " 'her',\n",
       " 'here',\n",
       " 'hers',\n",
       " 'herself',\n",
       " 'him',\n",
       " 'himself',\n",
       " 'his',\n",
       " 'how',\n",
       " 'i',\n",
       " 'if',\n",
       " 'in',\n",
       " 'into',\n",
       " 'is',\n",
       " 'isn',\n",
       " \"isn't\",\n",
       " 'it',\n",
       " \"it's\",\n",
       " 'its',\n",
       " 'itself',\n",
       " 'just',\n",
       " 'll',\n",
       " 'm',\n",
       " 'ma',\n",
       " 'me',\n",
       " 'mightn',\n",
       " \"mightn't\",\n",
       " 'more',\n",
       " 'most',\n",
       " 'mustn',\n",
       " \"mustn't\",\n",
       " 'my',\n",
       " 'myself',\n",
       " 'needn',\n",
       " \"needn't\",\n",
       " 'no',\n",
       " 'nor',\n",
       " 'not',\n",
       " 'now',\n",
       " 'o',\n",
       " 'of',\n",
       " 'off',\n",
       " 'on',\n",
       " 'once',\n",
       " 'only',\n",
       " 'or',\n",
       " 'other',\n",
       " 'our',\n",
       " 'ours',\n",
       " 'ourselves',\n",
       " 'out',\n",
       " 'over',\n",
       " 'own',\n",
       " 're',\n",
       " 's',\n",
       " 'same',\n",
       " 'shan',\n",
       " \"shan't\",\n",
       " 'she',\n",
       " \"she's\",\n",
       " 'should',\n",
       " \"should've\",\n",
       " 'shouldn',\n",
       " \"shouldn't\",\n",
       " 'so',\n",
       " 'some',\n",
       " 'such',\n",
       " 't',\n",
       " 'than',\n",
       " 'that',\n",
       " \"that'll\",\n",
       " 'the',\n",
       " 'their',\n",
       " 'theirs',\n",
       " 'them',\n",
       " 'themselves',\n",
       " 'then',\n",
       " 'there',\n",
       " 'these',\n",
       " 'they',\n",
       " 'this',\n",
       " 'those',\n",
       " 'through',\n",
       " 'to',\n",
       " 'too',\n",
       " 'under',\n",
       " 'until',\n",
       " 'up',\n",
       " 've',\n",
       " 'very',\n",
       " 'was',\n",
       " 'wasn',\n",
       " \"wasn't\",\n",
       " 'we',\n",
       " 'were',\n",
       " 'weren',\n",
       " \"weren't\",\n",
       " 'what',\n",
       " 'when',\n",
       " 'where',\n",
       " 'which',\n",
       " 'while',\n",
       " 'who',\n",
       " 'whom',\n",
       " 'why',\n",
       " 'will',\n",
       " 'with',\n",
       " 'won',\n",
       " \"won't\",\n",
       " 'wouldn',\n",
       " \"wouldn't\",\n",
       " 'y',\n",
       " 'you',\n",
       " \"you'd\",\n",
       " \"you'll\",\n",
       " \"you're\",\n",
       " \"you've\",\n",
       " 'your',\n",
       " 'yours',\n",
       " 'yourself',\n",
       " 'yourselves'}"
      ]
     },
     "execution_count": 28,
     "metadata": {},
     "output_type": "execute_result"
    }
   ],
   "source": [
    "from nltk.corpus import stopwords\n",
    "stopwords = set(stopwords.words('english'))\n",
    "stopwords"
   ]
  },
  {
   "cell_type": "code",
   "execution_count": 29,
   "metadata": {},
   "outputs": [
    {
     "data": {
      "text/plain": [
       "10499"
      ]
     },
     "execution_count": 29,
     "metadata": {},
     "output_type": "execute_result"
    }
   ],
   "source": [
    "# number of stopwords\n",
    "# remember: freqs is the Counter object that maps words to their occurrence number\n",
    "stopfreq = np.sum([freqs[x] for x in stopwords])\n",
    "stopfreq"
   ]
  },
  {
   "cell_type": "code",
   "execution_count": 30,
   "metadata": {},
   "outputs": [
    {
     "data": {
      "text/plain": [
       "18302"
      ]
     },
     "execution_count": 30,
     "metadata": {},
     "output_type": "execute_result"
    }
   ],
   "source": [
    "# number of non-stopwords\n",
    "otherfreq = np.sum([freqs[x] for x in freqs if x not in stopwords])\n",
    "otherfreq"
   ]
  },
  {
   "cell_type": "code",
   "execution_count": 52,
   "metadata": {},
   "outputs": [],
   "source": [
    "# check\n",
    "assert np.sum(list(freqs.values())) == stopfreq + otherfreq"
   ]
  },
  {
   "cell_type": "markdown",
   "metadata": {},
   "source": [
    "## RegEx"
   ]
  },
  {
   "cell_type": "markdown",
   "metadata": {},
   "source": [
    "Please refer to [RegExOne Regular Expressions Lessons](regexone.com) and [the python documentation](https://docs.python.org/3/howto/regex.html)."
   ]
  },
  {
   "cell_type": "code",
   "execution_count": 53,
   "metadata": {},
   "outputs": [
    {
     "name": "stdout",
     "output_type": "stream",
     "text": [
      "['Subject: Assurance ']\n",
      "['Subject: This ']\n",
      "['Subject: Gun ']\n",
      "[]\n",
      "['Subject: Armenian ']\n"
     ]
    }
   ],
   "source": [
    "import re\n",
    "\n",
    "docs = dfs[:5]['text']\n",
    "\n",
    "# Extract words after Subject.\n",
    "for doc in docs:    \n",
    "    print(re.findall(r'Subject: \\w+ ', # pattern to match. always put 'r' in front of string so that backslashes are treated literally.\n",
    "                     doc,            # string\n",
    "                     re.IGNORECASE))  # ignore upper/lowercase (optional)"
   ]
  },
  {
   "cell_type": "code",
   "execution_count": 27,
   "metadata": {},
   "outputs": [
    {
     "name": "stdout",
     "output_type": "stream",
     "text": [
      "['IN-VISIBILITY', 'wind-swept', 'so-called', 'longer-range', 'so-called', 'two-thirds', 'semi-permanent', 'far-off', 'so-called', 'fast-approaching', 'so-called', 'up-to', 'anti-Bolshevik', 'long-range', 'two-prong', 'Rockefeller-controlled', 'full-fledged', 'all-out', 'so-called', 'then-President', 'over-all', 'so-called', 'particle-beam', 'man-made', 'then-Secretary', 'newly-launched', 'nuclear-powered', 'so-called', 'war-planes', 'Stealth-field', 'three-phase', 'war-room', 'all-out', 'anti-Bolshevik', 'anti-Bolshevik', 'so-called', 'slow-down', 'anti-Bolshevik', 'Rockefeller-Russian', 'mid-February', 'Bolshevik-controlled', 'long-standing', 'scrap-metal', 'work-site', 'year-old', 'long-standing', 'far-off', 'Rockefeller-Russian', 'high-speed', 'Rockefeller-Russian', 'Rockefeller-Russian', 'so-called', 'blast-proof', 'Rockefeller-Russian', 'mid-Atlantic', 'Rockefeller-Russian', 'hollowed-out', 'beam-weapon', 'Range-Finding', 'non-homing', 'non-nuclear', 'pseudo-smile', 'Rockefeller-Russian', 'fast-building', 'anti-nuclear', 'so-called', 'anti-nuclear', 'all-out', 'anti-nuclear', 'so-called', 'super-United', 'so-called', 'Bolshevik-controlled', 'nuclear-war']\n",
      "['front-page', 'even-handed', 'talk-show', 'half-truth', 'self-defense', 'five-year', 'self-defense', 'gun-related', 'substance-abuse', 'high-risk', 'death-dealing', 'high-risk', 'socio-economic', 'risk-relevant', 'firearm-related', 'in-house', 'self-defense', 'under-representing', 'self-defense', 'self-defense', 'self-defense', 'self-defense', 'self-defense']\n",
      "['anti-inflammatory']\n",
      "['Article-I', 'Reply-To', 'amherst-clown', 'net-wide', 'non-fascist', 'x-Soviet', 'non-existent', 'centuries-old', 'well-written', 'ex-Soviet', 'non-fascist', 'x-Soviet', 'x-Soviet', 'x-Soviet', 'x-Soviet', 'net-user', 'auto-posting', 'Puh-leeze', 'cold-blooded', 'Armenian-Nazi', 'Armenian-Nazi', 'foreign-missionary', 'mid-July', 'non-Muslim', 'Meclis-i', 'Babi-i', 'Katl-i', 'pseudo-scholar', 'Armenian-Nazi', 'Armenian-Nazi', 'short-lived', 'cold-blooded', 'Armenian-Nazi', 'back-stabbed', 'pre-war', 'two-year']\n",
      "['Reply-To', 'Lieut-colonel', 'Commander-in', 'gun-powder']\n"
     ]
    }
   ],
   "source": [
    "# Extract hyphenated words\n",
    "for doc in docs:    \n",
    "    print(re.findall(r'[a-z]+-[a-z]+', \n",
    "                     doc,            \n",
    "                     re.IGNORECASE))  "
   ]
  },
  {
   "cell_type": "code",
   "execution_count": 54,
   "metadata": {
    "scrolled": true
   },
   "outputs": [
    {
     "name": "stdout",
     "output_type": "stream",
     "text": [
      "0 (6, 26) REXLEX@fnal.fnal.gov\n",
      "1 (6, 19) sera@zuma.UUC\n",
      "1 (121, 134) sera@zuma.UUC\n",
      "2 (6, 27) lvc@cbnews.cb.att.com\n",
      "2 (10529, 10545) cipriani@att.com\n",
      "3 (6, 25) VEAL@utkvm1.utk.edu\n",
      "3 (203, 255) 16613@grace.rt.cs.boeing.com> rwojcik@atc.boeing.com\n",
      "3 (294, 327) 734629856@misty, john@anasazi.com\n",
      "3 (354, 381) papresco@undergrad.math.uwa\n",
      "3 (6995, 7018) PA146008@utkvm1.utk.edu\n",
      "4 (6, 19) sera@zuma.UUC\n",
      "4 (124, 137) sera@zuma.UUC\n",
      "4 (198, 251) 735251412@amazon.cs.duke.edu> wiener@duke.cs.duke.edu\n",
      "4 (5216, 5233) farid@mem.odu.edu\n"
     ]
    }
   ],
   "source": [
    "# extract email addresses\n",
    "for i, doc in enumerate(docs):\n",
    "    finder = re.finditer('\\w+@.+\\.\\w\\w\\w', # pattern to match ([^\\s] means non-white-space)\n",
    "                     doc)            # string\n",
    "    for m in finder: \n",
    "        print(i, m.span(),m.group()) # location (start,end) and matching string"
   ]
  },
  {
   "cell_type": "code",
   "execution_count": 55,
   "metadata": {},
   "outputs": [],
   "source": [
    "# baker-bloom economic uncertainty\n",
    "pattern1 = r'(\\b)uncertain[a-z]*'\n",
    "pattern2 = r'(\\b)econom[a-z]*'\n",
    "pattern3 = r'(\\b)congress(\\b)|(\\b)deficit(\\b)|(\\b)federal reserve(\\b)|(\\b)legislation(\\b)|(\\b)regulation(\\b)|(\\b)white house(\\b)'"
   ]
  },
  {
   "cell_type": "code",
   "execution_count": 60,
   "metadata": {},
   "outputs": [
    {
     "data": {
      "text/plain": [
       "<re.Match object; span=(30, 41), match='uncertainty'>"
      ]
     },
     "execution_count": 60,
     "metadata": {},
     "output_type": "execute_result"
    }
   ],
   "source": [
    "re.search(pattern1,'The White House tried to calm uncertainty in the markets.')"
   ]
  },
  {
   "cell_type": "code",
   "execution_count": 57,
   "metadata": {},
   "outputs": [],
   "source": [
    "def indicates_uncertainty(doc):\n",
    "    m1 = re.search(pattern1, doc, re.IGNORECASE)\n",
    "    m2 = re.search(pattern2, doc, re.IGNORECASE)\n",
    "    m3 = re.search(pattern3, doc, re.IGNORECASE)\n",
    "    if m1 and m2 and m3:\n",
    "        return True\n",
    "    else:\n",
    "        return False"
   ]
  },
  {
   "cell_type": "code",
   "execution_count": 61,
   "metadata": {},
   "outputs": [],
   "source": [
    "df['uncertainty'] = df['text'].apply(indicates_uncertainty)"
   ]
  },
  {
   "cell_type": "code",
   "execution_count": 62,
   "metadata": {},
   "outputs": [
    {
     "data": {
      "text/plain": [
       "0.00017677214071062401"
      ]
     },
     "execution_count": 62,
     "metadata": {},
     "output_type": "execute_result"
    }
   ],
   "source": [
    "df.uncertainty.mean()"
   ]
  },
  {
   "cell_type": "code",
   "execution_count": 63,
   "metadata": {},
   "outputs": [
    {
     "data": {
      "text/html": [
       "<div>\n",
       "<style scoped>\n",
       "    .dataframe tbody tr th:only-of-type {\n",
       "        vertical-align: middle;\n",
       "    }\n",
       "\n",
       "    .dataframe tbody tr th {\n",
       "        vertical-align: top;\n",
       "    }\n",
       "\n",
       "    .dataframe thead th {\n",
       "        text-align: right;\n",
       "    }\n",
       "</style>\n",
       "<table border=\"1\" class=\"dataframe\">\n",
       "  <thead>\n",
       "    <tr style=\"text-align: right;\">\n",
       "      <th></th>\n",
       "      <th>text</th>\n",
       "      <th>topic</th>\n",
       "      <th>num_words</th>\n",
       "      <th>log_words</th>\n",
       "      <th>uncertainty</th>\n",
       "    </tr>\n",
       "  </thead>\n",
       "  <tbody>\n",
       "    <tr>\n",
       "      <th>2350</th>\n",
       "      <td>From: ld231782@longs.lance.colostate.edu (L. D...</td>\n",
       "      <td>11</td>\n",
       "      <td>8569</td>\n",
       "      <td>9.055906</td>\n",
       "      <td>True</td>\n",
       "    </tr>\n",
       "    <tr>\n",
       "      <th>4682</th>\n",
       "      <td>From: ld231782@longs.lance.colostate.edu (L. D...</td>\n",
       "      <td>11</td>\n",
       "      <td>8520</td>\n",
       "      <td>9.050172</td>\n",
       "      <td>True</td>\n",
       "    </tr>\n",
       "  </tbody>\n",
       "</table>\n",
       "</div>"
      ],
      "text/plain": [
       "                                                   text  topic  num_words  \\\n",
       "2350  From: ld231782@longs.lance.colostate.edu (L. D...     11       8569   \n",
       "4682  From: ld231782@longs.lance.colostate.edu (L. D...     11       8520   \n",
       "\n",
       "      log_words  uncertainty  \n",
       "2350   9.055906         True  \n",
       "4682   9.050172         True  "
      ]
     },
     "execution_count": 63,
     "metadata": {},
     "output_type": "execute_result"
    }
   ],
   "source": [
    "df[df.uncertainty]"
   ]
  },
  {
   "cell_type": "markdown",
   "metadata": {},
   "source": [
    "# Featurizing Texts"
   ]
  },
  {
   "cell_type": "code",
   "execution_count": 64,
   "metadata": {},
   "outputs": [],
   "source": [
    "text = \"Prof. Zurich hailed from Zurich. She got 3 M.A.'s from ETH.\""
   ]
  },
  {
   "cell_type": "markdown",
   "metadata": {},
   "source": [
    "**Sentence Tokenization**"
   ]
  },
  {
   "cell_type": "markdown",
   "metadata": {},
   "source": [
    "**NLTK has a fast implementation that makes errors.**"
   ]
  },
  {
   "cell_type": "code",
   "execution_count": 36,
   "metadata": {},
   "outputs": [
    {
     "name": "stdout",
     "output_type": "stream",
     "text": [
      "['Prof. Zurich hailed from Zurich.', 'She got 3 M.A.', \"'s from ETH.\"]\n"
     ]
    }
   ],
   "source": [
    "from nltk import sent_tokenize\n",
    "sentences = sent_tokenize(text) # split document into sentences\n",
    "print(sentences)"
   ]
  },
  {
   "cell_type": "markdown",
   "metadata": {},
   "source": [
    "**spacy works better.**\n",
    "\n",
    "**Install spacy and the English model if you have not already.**"
   ]
  },
  {
   "cell_type": "code",
   "execution_count": 37,
   "metadata": {},
   "outputs": [],
   "source": [
    "# !pip install spacy\n",
    "# !python -m spacy download en_core_web_sm"
   ]
  },
  {
   "cell_type": "code",
   "execution_count": 65,
   "metadata": {},
   "outputs": [
    {
     "name": "stdout",
     "output_type": "stream",
     "text": [
      "[Prof. Zurich hailed from Zurich., She got 3 M.A.'s from ETH.]\n"
     ]
    }
   ],
   "source": [
    "# \n",
    "import spacy\n",
    "nlp = spacy.load('en_core_web_sm')\n",
    "doc = nlp(text)\n",
    "sentences = list(doc.sents)\n",
    "print(sentences)"
   ]
  },
  {
   "cell_type": "markdown",
   "metadata": {},
   "source": [
    "**Removing capitalization.**"
   ]
  },
  {
   "cell_type": "code",
   "execution_count": 66,
   "metadata": {},
   "outputs": [
    {
     "data": {
      "text/plain": [
       "\"prof. zurich hailed from zurich. she got 3 m.a.'s from eth.\""
      ]
     },
     "execution_count": 66,
     "metadata": {},
     "output_type": "execute_result"
    }
   ],
   "source": [
    "# Capitalization\n",
    "text_lower = text.lower() # go to lower-case\n",
    "text_lower"
   ]
  },
  {
   "cell_type": "code",
   "execution_count": 67,
   "metadata": {},
   "outputs": [
    {
     "name": "stdout",
     "output_type": "stream",
     "text": [
      "prof zurich hailed from zurich she got 3 mas from eth\n"
     ]
    }
   ],
   "source": [
    "#####\n",
    "# Punctuation\n",
    "#####\n",
    "\n",
    "# recipe for fast punctuation removal\n",
    "from string import punctuation\n",
    "punc_remover = str.maketrans('','',punctuation) \n",
    "text_nopunc = text_lower.translate(punc_remover)\n",
    "print(text_nopunc)"
   ]
  },
  {
   "cell_type": "code",
   "execution_count": 68,
   "metadata": {},
   "outputs": [
    {
     "name": "stdout",
     "output_type": "stream",
     "text": [
      "['prof', 'zurich', 'hailed', 'from', 'zurich', 'she', 'got', '3', 'mas', 'from', 'eth']\n"
     ]
    }
   ],
   "source": [
    "# Tokens\n",
    "tokens = text_nopunc.split() # splits a string on white space\n",
    "print(tokens)"
   ]
  },
  {
   "cell_type": "code",
   "execution_count": 69,
   "metadata": {},
   "outputs": [
    {
     "name": "stdout",
     "output_type": "stream",
     "text": [
      "['prof', 'zurich', 'hailed', 'from', 'zurich', 'she', 'got', 'mas', 'from', 'eth']\n",
      "['prof', 'zurich', 'hailed', 'from', 'zurich', 'she', 'got', '#', 'mas', 'from', 'eth']\n"
     ]
    }
   ],
   "source": [
    "# Numbers\n",
    "# remove numbers (keep if not a digit)\n",
    "no_numbers = [t for t in tokens if not t.isdigit()]\n",
    "# keep if not a digit, else replace with \"#\"\n",
    "norm_numbers = [t if not t.isdigit() else '#' \n",
    "                for t in tokens ]\n",
    "print(no_numbers )\n",
    "print(norm_numbers)"
   ]
  },
  {
   "cell_type": "code",
   "execution_count": 70,
   "metadata": {},
   "outputs": [
    {
     "name": "stdout",
     "output_type": "stream",
     "text": [
      "['prof', 'zurich', 'hailed', 'zurich', 'got', '#', 'mas', 'eth']\n"
     ]
    }
   ],
   "source": [
    "# Stopwords\n",
    "from nltk.corpus import stopwords\n",
    "stoplist = stopwords.words('english') \n",
    "# keep if not a stopword\n",
    "nostop = [t for t in norm_numbers if t not in stoplist]\n",
    "print(nostop)"
   ]
  },
  {
   "cell_type": "code",
   "execution_count": 71,
   "metadata": {},
   "outputs": [
    {
     "data": {
      "text/plain": [
       "['a',\n",
       " 'about',\n",
       " 'above',\n",
       " 'across',\n",
       " 'after',\n",
       " 'afterwards',\n",
       " 'again',\n",
       " 'against',\n",
       " 'all',\n",
       " 'almost']"
      ]
     },
     "execution_count": 71,
     "metadata": {},
     "output_type": "execute_result"
    }
   ],
   "source": [
    "# scikit-learn stopwords\n",
    "from sklearn.feature_extraction import stop_words\n",
    "sorted(list(stop_words.ENGLISH_STOP_WORDS))[:10]"
   ]
  },
  {
   "cell_type": "code",
   "execution_count": 72,
   "metadata": {},
   "outputs": [
    {
     "data": {
      "text/plain": [
       "[\"'d\", \"'ll\", \"'m\", \"'re\", \"'s\", \"'ve\", 'a', 'about', 'above', 'across']"
      ]
     },
     "execution_count": 72,
     "metadata": {},
     "output_type": "execute_result"
    }
   ],
   "source": [
    "# spacy stopwords\n",
    "sorted(list(nlp.Defaults.stop_words))[:10]"
   ]
  },
  {
   "cell_type": "code",
   "execution_count": 73,
   "metadata": {},
   "outputs": [
    {
     "name": "stdout",
     "output_type": "stream",
     "text": [
      "['tax', 'tax', 'tax', 'taxat']\n"
     ]
    }
   ],
   "source": [
    "# Stemming\n",
    "from nltk.stem import SnowballStemmer\n",
    "stemmer = SnowballStemmer('english') # snowball stemmer, english\n",
    "# remake list of tokens, replace with stemmed versions\n",
    "tokens_stemmed = [stemmer.stem(t) for t in ['tax','taxes','taxed','taxation']]\n",
    "print(tokens_stemmed)"
   ]
  },
  {
   "cell_type": "code",
   "execution_count": null,
   "metadata": {},
   "outputs": [],
   "source": []
  },
  {
   "cell_type": "code",
   "execution_count": 74,
   "metadata": {},
   "outputs": [
    {
     "name": "stdout",
     "output_type": "stream",
     "text": [
      "autobahn\n"
     ]
    }
   ],
   "source": [
    "stemmer = SnowballStemmer('german') # snowball stemmer, german\n",
    "print(stemmer.stem(\"Autobahnen\"))"
   ]
  },
  {
   "cell_type": "code",
   "execution_count": 76,
   "metadata": {},
   "outputs": [
    {
     "name": "stderr",
     "output_type": "stream",
     "text": [
      "[nltk_data] Downloading package wordnet to /Users/felix/nltk_data...\n",
      "[nltk_data]   Unzipping corpora/wordnet.zip.\n"
     ]
    },
    {
     "data": {
      "text/plain": [
       "['corporation', 'corporation', 'corporate']"
      ]
     },
     "execution_count": 76,
     "metadata": {},
     "output_type": "execute_result"
    }
   ],
   "source": [
    "# Lemmatizing\n",
    "nltk.download('wordnet')\n",
    "from nltk.stem import WordNetLemmatizer\n",
    "wnl = WordNetLemmatizer()\n",
    "[wnl.lemmatize(c) for c in ['corporation', 'corporations', 'corporate']]"
   ]
  },
  {
   "cell_type": "markdown",
   "metadata": {},
   "source": [
    "Let's wrap it into a recipe."
   ]
  },
  {
   "cell_type": "code",
   "execution_count": 77,
   "metadata": {},
   "outputs": [],
   "source": [
    "from string import punctuation\n",
    "translator = str.maketrans('','',punctuation) \n",
    "from nltk.corpus import stopwords\n",
    "stoplist = set(stopwords.words('english'))\n",
    "from nltk.stem import SnowballStemmer\n",
    "stemmer = SnowballStemmer('english')\n",
    "\n",
    "def normalize_text(doc):\n",
    "    \"Input doc and return clean list of tokens\"\n",
    "    doc = doc.replace('\\r', ' ').replace('\\n', ' ')\n",
    "    lower = doc.lower() # all lower case\n",
    "    nopunc = lower.translate(translator) # remove punctuation\n",
    "    words = nopunc.split() # split into tokens\n",
    "    nostop = [w for w in words if w not in stoplist] # remove stopwords\n",
    "    no_numbers = [w if not w.isdigit() else '#' for w in nostop] # normalize numbers\n",
    "    stemmed = [stemmer.stem(w) for w in no_numbers] # stem each word\n",
    "    return stemmed"
   ]
  },
  {
   "cell_type": "markdown",
   "metadata": {},
   "source": [
    "And apply it to the corpus."
   ]
  },
  {
   "cell_type": "code",
   "execution_count": 83,
   "metadata": {},
   "outputs": [
    {
     "name": "stdout",
     "output_type": "stream",
     "text": [
      "CPU times: user 33.1 s, sys: 119 ms, total: 33.2 s\n",
      "Wall time: 33.3 s\n"
     ]
    },
    {
     "data": {
      "text/plain": [
       "0        [lerxstwamumdedu, where, thing, subject, car, ...\n",
       "1        [guykuocarsonuwashingtonedu, guy, kuo, subject...\n",
       "2        [twillisececnpurdueedu, thoma, e, willi, subje...\n",
       "3        [jgreenamb, joe, green, subject, weitek, p9000...\n",
       "4        [jcmheadcfaharvardedu, jonathan, mcdowel, subj...\n",
       "                               ...                        \n",
       "11309    [jimzisfeinfactorycom, jim, zisfein, subject, ...\n",
       "11310    [ebodinpearltuftsedu, subject, screen, death, ...\n",
       "11311    [westesnetcomcom, est, subject, mount, cpu, co...\n",
       "11312    [stevehcrlgw, steven, collin, subject, sphere,...\n",
       "11313    [gunningccocaltechedu, kevin, j, gun, subject,...\n",
       "Name: tokens_cleaned, Length: 11314, dtype: object"
      ]
     },
     "execution_count": 83,
     "metadata": {},
     "output_type": "execute_result"
    }
   ],
   "source": [
    "%%time\n",
    "df['tokens_cleaned'] = df['text'].apply(normalize_text)\n",
    "df['tokens_cleaned']"
   ]
  },
  {
   "cell_type": "markdown",
   "metadata": {},
   "source": [
    "**Shortcut: `gensim.simple_preprocess`.**"
   ]
  },
  {
   "cell_type": "code",
   "execution_count": 84,
   "metadata": {},
   "outputs": [
    {
     "name": "stdout",
     "output_type": "stream",
     "text": [
      "['prof', 'zurich', 'hailed', 'from', 'zurich', 'she', 'got', 'from', 'eth']\n"
     ]
    }
   ],
   "source": [
    "from gensim.utils import simple_preprocess\n",
    "print(simple_preprocess(text))"
   ]
  },
  {
   "cell_type": "code",
   "execution_count": 85,
   "metadata": {},
   "outputs": [
    {
     "name": "stdout",
     "output_type": "stream",
     "text": [
      "Counter({'zurich': 2, 'from': 2, 'prof': 1, 'hailed': 1, 'she': 1, 'got': 1, 'eth': 1})\n"
     ]
    }
   ],
   "source": [
    "from collections import Counter\n",
    "print(Counter(simple_preprocess(text)))"
   ]
  },
  {
   "cell_type": "markdown",
   "metadata": {},
   "source": [
    "Now let's `simple_preprocess` on the corpus."
   ]
  },
  {
   "cell_type": "code",
   "execution_count": 86,
   "metadata": {},
   "outputs": [
    {
     "name": "stdout",
     "output_type": "stream",
     "text": [
      "CPU times: user 5.4 s, sys: 110 ms, total: 5.51 s\n",
      "Wall time: 5.59 s\n"
     ]
    },
    {
     "data": {
      "text/plain": [
       "0        [from, lerxst, wam, umd, edu, where, my, thing...\n",
       "1        [from, guykuo, carson, washington, edu, guy, k...\n",
       "2        [from, twillis, ec, ecn, purdue, edu, thomas, ...\n",
       "3        [from, jgreen, amber, joe, green, subject, re,...\n",
       "4        [from, jcm, head, cfa, harvard, edu, jonathan,...\n",
       "                               ...                        \n",
       "11309    [from, jim, zisfein, factory, com, jim, zisfei...\n",
       "11310    [from, ebodin, pearl, tufts, edu, subject, scr...\n",
       "11311    [from, westes, netcom, com, will, estes, subje...\n",
       "11312    [from, steve, hcrlgw, steven, collins, subject...\n",
       "11313    [from, gunning, cco, caltech, edu, kevin, gunn...\n",
       "Name: tokens_simple, Length: 11314, dtype: object"
      ]
     },
     "execution_count": 86,
     "metadata": {},
     "output_type": "execute_result"
    }
   ],
   "source": [
    "%%time\n",
    "df['tokens_simple'] = df['text'].apply(simple_preprocess)\n",
    "df['tokens_simple']"
   ]
  },
  {
   "cell_type": "markdown",
   "metadata": {},
   "source": [
    "## Tagging Parts of Speech"
   ]
  },
  {
   "cell_type": "code",
   "execution_count": 88,
   "metadata": {
    "scrolled": true
   },
   "outputs": [
    {
     "name": "stderr",
     "output_type": "stream",
     "text": [
      "[nltk_data] Downloading package averaged_perceptron_tagger to\n",
      "[nltk_data]     /Users/felix/nltk_data...\n",
      "[nltk_data]   Unzipping taggers/averaged_perceptron_tagger.zip.\n"
     ]
    },
    {
     "data": {
      "text/plain": [
       "[('Science', 'NN'),\n",
       " ('can', 'MD'),\n",
       " ('not', 'RB'),\n",
       " ('solve', 'VB'),\n",
       " ('the', 'DT'),\n",
       " ('ultimate', 'JJ'),\n",
       " ('mystery', 'NN'),\n",
       " ('of', 'IN'),\n",
       " ('nature', 'NN'),\n",
       " ('.', '.'),\n",
       " ('And', 'CC'),\n",
       " ('that', 'DT'),\n",
       " ('is', 'VBZ'),\n",
       " ('because', 'RB'),\n",
       " (',', ','),\n",
       " ('in', 'IN'),\n",
       " ('the', 'DT'),\n",
       " ('last', 'JJ'),\n",
       " ('analysis', 'NN'),\n",
       " (',', ','),\n",
       " ('we', 'PRP'),\n",
       " ('ourselves', 'PRP'),\n",
       " ('are', 'VBP'),\n",
       " ('a', 'DT'),\n",
       " ('part', 'NN'),\n",
       " ('of', 'IN'),\n",
       " ('the', 'DT'),\n",
       " ('mystery', 'NN'),\n",
       " ('that', 'IN'),\n",
       " ('we', 'PRP'),\n",
       " ('are', 'VBP'),\n",
       " ('trying', 'VBG'),\n",
       " ('to', 'TO'),\n",
       " ('solve', 'VB'),\n",
       " ('.', '.')]"
      ]
     },
     "execution_count": 88,
     "metadata": {},
     "output_type": "execute_result"
    }
   ],
   "source": [
    "text = 'Science cannot solve the ultimate mystery of nature. And that is because, in the last analysis, we ourselves are a part of the mystery that we are trying to solve.'\n",
    "\n",
    "nltk.download('averaged_perceptron_tagger')\n",
    "from nltk.tag import perceptron \n",
    "from nltk import word_tokenize\n",
    "tagger = perceptron.PerceptronTagger()\n",
    "tokens = word_tokenize(text)\n",
    "tagged_sentence = tagger.tag(tokens)\n",
    "tagged_sentence"
   ]
  },
  {
   "cell_type": "markdown",
   "metadata": {},
   "source": [
    "Plot nouns and adjectives by topic"
   ]
  },
  {
   "cell_type": "code",
   "execution_count": 89,
   "metadata": {},
   "outputs": [
    {
     "data": {
      "text/plain": [
       "<matplotlib.axes._subplots.AxesSubplot at 0x15b04da10>"
      ]
     },
     "execution_count": 89,
     "metadata": {},
     "output_type": "execute_result"
    },
    {
     "data": {
      "image/png": "[encoded data removed]",
      "text/plain": [
       "<Figure size 432x288 with 1 Axes>"
      ]
     },
     "metadata": {
      "image/png": {
       "height": 268,
       "width": 382
      },
      "needs_background": "light"
     },
     "output_type": "display_data"
    }
   ],
   "source": [
    "from collections import Counter\n",
    "from nltk import word_tokenize\n",
    "\n",
    "def get_nouns_adj(snippet):\n",
    "    tags = [x[1] for x in tagger.tag(word_tokenize(snippet))]\n",
    "    num_nouns = len([t for t in tags if t[0] == 'N']) / len(tags)\n",
    "    num_adj = len([t for t in tags if t[0] == 'J']) / len(tags)\n",
    "    return num_nouns, num_adj\n",
    "\n",
    "dfs['nouns'], dfs['adj'] = zip(*dfs['text'].map(get_nouns_adj))\n",
    "dfs.groupby('topic')[['nouns','adj']].mean().plot()"
   ]
  },
  {
   "cell_type": "markdown",
   "metadata": {},
   "source": [
    "# Corpus Prep with spaCy"
   ]
  },
  {
   "cell_type": "markdown",
   "metadata": {},
   "source": [
    "Get spacy documents for each speech and add to dataframe. This is quicker than iterating over the dataframe with `iterrows()`, but slower than a parallelized solution. It will take a few minutes for a whole corpus."
   ]
  },
  {
   "cell_type": "code",
   "execution_count": 90,
   "metadata": {},
   "outputs": [],
   "source": [
    "dfs = df.sample(10)\n",
    "dfs['doc'] = dfs['text'].apply(nlp)"
   ]
  },
  {
   "cell_type": "code",
   "execution_count": 91,
   "metadata": {},
   "outputs": [
    {
     "data": {
      "text/plain": [
       "I saw an interesting product in NY Auto Show, and would like to hear\n",
       "-> your comments."
      ]
     },
     "execution_count": 91,
     "metadata": {},
     "output_type": "execute_result"
    }
   ],
   "source": [
    "# The spacy model already gives you sentences and tokens.\n",
    "# For example:\n",
    "sent1 = list(dfs['doc'].iloc[0].sents)[10]\n",
    "sent1 # sentence"
   ]
  },
  {
   "cell_type": "code",
   "execution_count": 92,
   "metadata": {},
   "outputs": [
    {
     "data": {
      "text/plain": [
       "[I,\n",
       " saw,\n",
       " an,\n",
       " interesting,\n",
       " product,\n",
       " in,\n",
       " NY,\n",
       " Auto,\n",
       " Show,\n",
       " ,,\n",
       " and,\n",
       " would,\n",
       " like,\n",
       " to,\n",
       " hear,\n",
       " ,\n",
       " -,\n",
       " >,\n",
       " your,\n",
       " comments,\n",
       " .,\n",
       " ]"
      ]
     },
     "execution_count": 92,
     "metadata": {},
     "output_type": "execute_result"
    }
   ],
   "source": [
    "# tokens\n",
    "list(sent1) "
   ]
  },
  {
   "cell_type": "code",
   "execution_count": 93,
   "metadata": {},
   "outputs": [
    {
     "data": {
      "text/plain": [
       "['-PRON-',\n",
       " 'see',\n",
       " 'an',\n",
       " 'interesting',\n",
       " 'product',\n",
       " 'in',\n",
       " 'NY',\n",
       " 'Auto',\n",
       " 'Show',\n",
       " ',',\n",
       " 'and',\n",
       " 'would',\n",
       " 'like',\n",
       " 'to',\n",
       " 'hear',\n",
       " '\\n',\n",
       " '-',\n",
       " '>',\n",
       " '-PRON-',\n",
       " 'comment',\n",
       " '.',\n",
       " '\\n']"
      ]
     },
     "execution_count": 93,
     "metadata": {},
     "output_type": "execute_result"
    }
   ],
   "source": [
    "# lemmas\n",
    "[x.lemma_ for x in sent1]"
   ]
  },
  {
   "cell_type": "code",
   "execution_count": 94,
   "metadata": {},
   "outputs": [
    {
     "data": {
      "text/plain": [
       "['PRP',\n",
       " 'VBD',\n",
       " 'DT',\n",
       " 'JJ',\n",
       " 'NN',\n",
       " 'IN',\n",
       " 'NNP',\n",
       " 'NNP',\n",
       " 'NNP',\n",
       " ',',\n",
       " 'CC',\n",
       " 'MD',\n",
       " 'VB',\n",
       " 'TO',\n",
       " 'VB',\n",
       " '_SP',\n",
       " 'HYPH',\n",
       " 'XX',\n",
       " 'PRP$',\n",
       " 'NNS',\n",
       " '.',\n",
       " '_SP']"
      ]
     },
     "execution_count": 94,
     "metadata": {},
     "output_type": "execute_result"
    }
   ],
   "source": [
    "# POS tags\n",
    "[x.tag_ for x in sent1]"
   ]
  },
  {
   "cell_type": "markdown",
   "metadata": {},
   "source": [
    "# N-grams"
   ]
  },
  {
   "cell_type": "code",
   "execution_count": 95,
   "metadata": {},
   "outputs": [
    {
     "data": {
      "text/plain": [
       "[(('of', 'the'), 41),\n",
       " (('subject:', 're:'), 37),\n",
       " (('in', 'the'), 33),\n",
       " (('to', 'the'), 27),\n",
       " (('i', 'am'), 21),\n",
       " (('i', 'have'), 21),\n",
       " (('to', 'be'), 19),\n",
       " (('on', 'the'), 18)]"
      ]
     },
     "execution_count": 95,
     "metadata": {},
     "output_type": "execute_result"
    }
   ],
   "source": [
    "from nltk import ngrams\n",
    "from collections import Counter\n",
    "\n",
    "# get n-gram counts for 10 documents\n",
    "grams = []\n",
    "for i, row in df.iterrows():\n",
    "    tokens = row['text'].lower().split() # get tokens\n",
    "    for n in range(2,4):\n",
    "        grams += list(ngrams(tokens,n)) # get bigrams, trigrams, and quadgrams\n",
    "    if i > 50:\n",
    "        break\n",
    "Counter(grams).most_common()[:8]  # most frequent n-grams"
   ]
  },
  {
   "cell_type": "code",
   "execution_count": 96,
   "metadata": {
    "scrolled": true
   },
   "outputs": [
    {
     "data": {
      "text/plain": [
       "[irwin@cmptrc.lonestar.org (Irwin Arnstein,\n",
       " Subject,\n",
       " Recommendation,\n",
       " Duc,\n",
       " Summary,\n",
       " What,\n",
       " it,\n",
       " Distribution,\n",
       " usa,\n",
       " Sat, 1 May 1993 05:00:00 GMT\n",
       " Organization,\n",
       " CompuTrac Inc.,\n",
       " Keywords,\n",
       " Ducati,\n",
       " GTS,\n",
       " Lines,\n",
       " I,\n",
       " a line,\n",
       " a Ducati 900GTS 1978 model,\n",
       " 17k,\n",
       " the clock,\n",
       " Runs,\n",
       " paint,\n",
       " the bronze/brown/orange,\n",
       " a bit,\n",
       " oil,\n",
       " pops,\n",
       " 1st,\n",
       " hard accel,\n",
       " The shop,\n",
       " trans and oil \n",
       " leak,\n",
       " They,\n",
       " the bike,\n",
       " the 1 and only owner,\n",
       " They,\n",
       " I,\n",
       " Any opinions,\n",
       " me,\n",
       " Thanks,\n",
       " It,\n",
       " a nice stable mate,\n",
       " the Beemer,\n",
       " I,\n",
       " a jap bike,\n",
       " myself,\n",
       " \"Tuba,\n",
       " Irwin,\n",
       " I,\n",
       " I,\n",
       " CompuTrac-Richardson,\n",
       " Tx,\n",
       " DoD #0826          (R75/6]"
      ]
     },
     "execution_count": 96,
     "metadata": {},
     "output_type": "execute_result"
    }
   ],
   "source": [
    "# spacy NER noun chunks\n",
    "i = 0\n",
    "chunks = list(nlp(df['text'].iloc[10]).noun_chunks)\n",
    "chunks"
   ]
  },
  {
   "cell_type": "markdown",
   "metadata": {},
   "source": [
    "# Tokenizers"
   ]
  },
  {
   "cell_type": "code",
   "execution_count": 97,
   "metadata": {},
   "outputs": [
    {
     "data": {
      "text/plain": [
       "[('the', 13),\n",
       " ('sabbath', 6),\n",
       " ('to', 6),\n",
       " ('is', 6),\n",
       " ('that', 5),\n",
       " ('i', 4),\n",
       " ('one', 4),\n",
       " ('of', 4),\n",
       " ('have', 3),\n",
       " ('this', 3),\n",
       " ('on', 3),\n",
       " ('not', 3),\n",
       " ('been', 2),\n",
       " ('and', 2),\n",
       " ('with', 2),\n",
       " ('at', 2),\n",
       " ('argument', 2),\n",
       " ('those', 2),\n",
       " ('since', 2),\n",
       " ('a', 2)]"
      ]
     },
     "execution_count": 97,
     "metadata": {},
     "output_type": "execute_result"
    }
   ],
   "source": [
    "# Counter is a quick pure-python solution.\n",
    "from collections import Counter\n",
    "freqs = Counter(tokens)\n",
    "freqs.most_common()[:20]"
   ]
  },
  {
   "cell_type": "markdown",
   "metadata": {},
   "source": [
    "Usually we use scikit-learn's vectorizer."
   ]
  },
  {
   "cell_type": "code",
   "execution_count": 98,
   "metadata": {},
   "outputs": [],
   "source": [
    "from sklearn.feature_extraction.text import CountVectorizer\n",
    "vec = CountVectorizer(min_df=0.001, # at min 0.1% of docs\n",
    "                        max_df=.8,  \n",
    "                        max_features=1000,\n",
    "                        stop_words='english',\n",
    "                        ngram_range=(1,3))\n",
    "X = vec.fit_transform(df['text'])\n",
    "\n",
    "# save the vectors\n",
    "# pd.to_pickle(X,'X.pkl')\n",
    "\n",
    "# save the vectorizer \n",
    "# (so you can transform other documents, \n",
    "# also for the vocab)\n",
    "#pd.to_pickle(vec, 'vec-3grams-1.pkl')"
   ]
  },
  {
   "cell_type": "code",
   "execution_count": 99,
   "metadata": {},
   "outputs": [
    {
     "data": {
      "text/plain": [
       "<11314x1000 sparse matrix of type '<class 'numpy.int64'>'\n",
       "\twith 526707 stored elements in Compressed Sparse Row format>"
      ]
     },
     "execution_count": 99,
     "metadata": {},
     "output_type": "execute_result"
    }
   ],
   "source": [
    "X"
   ]
  },
  {
   "cell_type": "code",
   "execution_count": 100,
   "metadata": {},
   "outputs": [],
   "source": [
    "# tf-idf vectorizer up-weights rare/distinctive words\n",
    "from sklearn.feature_extraction.text import TfidfVectorizer\n",
    "tfidf = TfidfVectorizer(min_df=0.001, \n",
    "                        max_df=0.9,  \n",
    "                        max_features=1000,\n",
    "                        stop_words='english',\n",
    "                        use_idf=True, # the new piece\n",
    "                        ngram_range=(1,2))\n",
    "\n",
    "X_tfidf = tfidf.fit_transform(df['text'])\n",
    "#pd.to_pickle(X_tfidf,'X_tfidf.pkl')"
   ]
  },
  {
   "cell_type": "code",
   "execution_count": 101,
   "metadata": {},
   "outputs": [
    {
     "data": {
      "text/plain": [
       "<11314x1000 sparse matrix of type '<class 'numpy.float64'>'\n",
       "\twith 521387 stored elements in Compressed Sparse Row format>"
      ]
     },
     "execution_count": 101,
     "metadata": {},
     "output_type": "execute_result"
    }
   ],
   "source": [
    "X_tfidf"
   ]
  },
  {
   "cell_type": "markdown",
   "metadata": {},
   "source": [
    "Make word cloud of common words by topic id."
   ]
  },
  {
   "cell_type": "code",
   "execution_count": 102,
   "metadata": {},
   "outputs": [
    {
     "data": {
      "text/plain": [
       "10    600\n",
       "15    599\n",
       "8     598\n",
       "9     597\n",
       "11    595\n",
       "13    594\n",
       "7     594\n",
       "14    593\n",
       "5     593\n",
       "12    591\n",
       "2     591\n",
       "3     590\n",
       "6     585\n",
       "1     584\n",
       "4     578\n",
       "17    564\n",
       "16    546\n",
       "0     480\n",
       "18    465\n",
       "19    377\n",
       "Name: topic, dtype: int64"
      ]
     },
     "execution_count": 102,
     "metadata": {},
     "output_type": "execute_result"
    }
   ],
   "source": [
    "df['topic'].value_counts() "
   ]
  },
  {
   "cell_type": "code",
   "execution_count": 103,
   "metadata": {},
   "outputs": [
    {
     "data": {
      "text/plain": [
       "(['00', '000', '01', '02', '03', '04', '0d', '0t', '10', '100'],\n",
       " ['writes article',\n",
       "  'written',\n",
       "  'wrong',\n",
       "  'wrote',\n",
       "  'year',\n",
       "  'years',\n",
       "  'years ago',\n",
       "  'yes',\n",
       "  'york',\n",
       "  'young'])"
      ]
     },
     "execution_count": 103,
     "metadata": {},
     "output_type": "execute_result"
    }
   ],
   "source": [
    "vocab = tfidf.get_feature_names()\n",
    "vocab[:10], vocab[-10:]"
   ]
  },
  {
   "cell_type": "code",
   "execution_count": 104,
   "metadata": {},
   "outputs": [
    {
     "ename": "ModuleNotFoundError",
     "evalue": "No module named 'wordcloud'",
     "output_type": "error",
     "traceback": [
      "\u001b[0;31m---------------------------------------------------------------------------\u001b[0m",
      "\u001b[0;31mModuleNotFoundError\u001b[0m                       Traceback (most recent call last)",
      "\u001b[0;32m<ipython-input-104-9d7d215d6429>\u001b[0m in \u001b[0;36m<module>\u001b[0;34m\u001b[0m\n\u001b[0;32m----> 1\u001b[0;31m \u001b[0;32mfrom\u001b[0m \u001b[0mwordcloud\u001b[0m \u001b[0;32mimport\u001b[0m \u001b[0mWordCloud\u001b[0m\u001b[0;34m\u001b[0m\u001b[0;34m\u001b[0m\u001b[0m\n\u001b[0m\u001b[1;32m      2\u001b[0m \u001b[0;32mimport\u001b[0m \u001b[0mmatplotlib\u001b[0m\u001b[0;34m.\u001b[0m\u001b[0mpyplot\u001b[0m \u001b[0;32mas\u001b[0m \u001b[0mplt\u001b[0m\u001b[0;34m\u001b[0m\u001b[0;34m\u001b[0m\u001b[0m\n\u001b[1;32m      3\u001b[0m \u001b[0;34m\u001b[0m\u001b[0m\n\u001b[1;32m      4\u001b[0m \u001b[0;32mfor\u001b[0m \u001b[0mtopic_id\u001b[0m \u001b[0;32min\u001b[0m \u001b[0;34m[\u001b[0m\u001b[0;36m1\u001b[0m\u001b[0;34m,\u001b[0m\u001b[0;36m2\u001b[0m\u001b[0;34m,\u001b[0m\u001b[0;36m8\u001b[0m\u001b[0;34m,\u001b[0m\u001b[0;36m9\u001b[0m\u001b[0;34m]\u001b[0m\u001b[0;34m:\u001b[0m\u001b[0;34m\u001b[0m\u001b[0;34m\u001b[0m\u001b[0m\n\u001b[1;32m      5\u001b[0m     \u001b[0mslicer\u001b[0m \u001b[0;34m=\u001b[0m \u001b[0mdf\u001b[0m\u001b[0;34m[\u001b[0m\u001b[0;34m'topic'\u001b[0m\u001b[0;34m]\u001b[0m \u001b[0;34m==\u001b[0m \u001b[0mtopic_id\u001b[0m\u001b[0;34m\u001b[0m\u001b[0;34m\u001b[0m\u001b[0m\n",
      "\u001b[0;31mModuleNotFoundError\u001b[0m: No module named 'wordcloud'"
     ]
    }
   ],
   "source": [
    "from wordcloud import WordCloud\n",
    "import matplotlib.pyplot as plt\n",
    "\n",
    "for topic_id in [1,2,8,9]: \n",
    "    slicer = df['topic'] == topic_id\n",
    "    f = X_tfidf[slicer.values]\n",
    "    total_freqs = list(np.array(f.sum(axis=0))[0])\n",
    "    fdict = dict(zip(vocab,total_freqs))\n",
    "    # generate word cloud of words with highest counts\n",
    "    wordcloud = WordCloud().generate_from_frequencies(fdict) \n",
    "    print(topic_id)\n",
    "    plt.clf()\n",
    "    plt.imshow(wordcloud, interpolation='bilinear') \n",
    "    plt.axis(\"off\") \n",
    "    plt.show()"
   ]
  },
  {
   "cell_type": "code",
   "execution_count": 105,
   "metadata": {},
   "outputs": [
    {
     "data": {
      "text/plain": [
       "<11314x10 sparse matrix of type '<class 'numpy.float64'>'\n",
       "\twith 112863 stored elements in Compressed Sparse Row format>"
      ]
     },
     "execution_count": 105,
     "metadata": {},
     "output_type": "execute_result"
    }
   ],
   "source": [
    "# hash vectorizer\n",
    "from sklearn.feature_extraction.text import HashingVectorizer\n",
    "\n",
    "hv = HashingVectorizer(n_features=10)\n",
    "X_hash = hv.fit_transform(df['text'])\n",
    "X_hash"
   ]
  },
  {
   "cell_type": "markdown",
   "metadata": {},
   "source": [
    "# Feature Selection"
   ]
  },
  {
   "cell_type": "code",
   "execution_count": 106,
   "metadata": {},
   "outputs": [
    {
     "data": {
      "text/plain": [
       "['friend',\n",
       " 'pub',\n",
       " 'file',\n",
       " 'cmu edu',\n",
       " 'form',\n",
       " 'image',\n",
       " 'away',\n",
       " 'avoid',\n",
       " 'ii',\n",
       " 'government']"
      ]
     },
     "execution_count": 106,
     "metadata": {},
     "output_type": "execute_result"
    }
   ],
   "source": [
    "#%% Univariate feature selection using chi2\n",
    "from sklearn.feature_selection import SelectKBest, chi2, f_classif, f_regression, f_classif, mutual_info_classif\n",
    "select = SelectKBest(chi2, k=10)\n",
    "Y = df['topic']==1\n",
    "X_new = select.fit_transform(X, Y)\n",
    "# top 10 features by chi-squared:\n",
    "[vocab[i] for i in np.argsort(select.scores_)[-10:]]"
   ]
  },
  {
   "cell_type": "code",
   "execution_count": null,
   "metadata": {},
   "outputs": [],
   "source": [
    "#%% top 10 features by  ANOVA F-value:\n",
    "select = SelectKBest(f_classif, k=10)\n",
    "select.fit(X, Y)\n",
    "[vocab[i] for i in np.argsort(select.scores_)[-10:]]"
   ]
  },
  {
   "cell_type": "code",
   "execution_count": null,
   "metadata": {},
   "outputs": [],
   "source": [
    "#%% top 10 features by linear regression\n",
    "select = SelectKBest(f_regression, k=10)\n",
    "select.fit(X, Y)\n",
    "[vocab[i] for i in np.argsort(select.scores_)[-10:]]"
   ]
  },
  {
   "cell_type": "code",
   "execution_count": null,
   "metadata": {},
   "outputs": [],
   "source": [
    "#%% top 10 features by mutual information (classification)\n",
    "select = SelectKBest(mutual_info_classif, k=10)\n",
    "select.fit(X[:1000], Y[:1000])\n",
    "[vocab[i] for i in np.argsort(select.scores_)[-10:]]"
   ]
  },
  {
   "cell_type": "markdown",
   "metadata": {},
   "source": [
    "# Document Distance"
   ]
  },
  {
   "cell_type": "code",
   "execution_count": null,
   "metadata": {},
   "outputs": [],
   "source": [
    "# compute pair-wise similarities between all documents in corpus\"\n",
    "from sklearn.metrics.pairwise import cosine_similarity\n",
    "\n",
    "sim = cosine_similarity(X[:100])\n",
    "sim.shape"
   ]
  },
  {
   "cell_type": "code",
   "execution_count": null,
   "metadata": {},
   "outputs": [],
   "source": [
    "sim[:4,:4]"
   ]
  },
  {
   "cell_type": "code",
   "execution_count": null,
   "metadata": {},
   "outputs": [],
   "source": [
    "# TF-IDF Similarity\n",
    "tsim = cosine_similarity(X_tfidf[:100])\n",
    "tsim[:4,:4]"
   ]
  }
 ],
 "metadata": {
  "kernelspec": {
   "display_name": "PyCharm (bd4pp)",
   "language": "python",
   "name": "pycharm-3837c9a2"
  },
  "language_info": {
   "codemirror_mode": {
    "name": "ipython",
    "version": 3
   },
   "file_extension": ".py",
   "mimetype": "text/x-python",
   "name": "python",
   "nbconvert_exporter": "python",
   "pygments_lexer": "ipython3",
   "version": "3.7.6"
  },
  "toc": {
   "base_numbering": 1,
   "nav_menu": {},
   "number_sections": true,
   "sideBar": true,
   "skip_h1_title": false,
   "title_cell": "Table of Contents",
   "title_sidebar": "Contents",
   "toc_cell": false,
   "toc_position": {
    "height": "calc(100% - 180px)",
    "left": "10px",
    "top": "150px",
    "width": "165px"
   },
   "toc_section_display": true,
   "toc_window_display": true
  },
  "varInspector": {
   "cols": {
    "lenName": 16,
    "lenType": 16,
    "lenVar": 40
   },
   "kernels_config": {
    "python": {
     "delete_cmd_postfix": "",
     "delete_cmd_prefix": "del ",
     "library": "var_list.py",
     "varRefreshCmd": "print(var_dic_list())"
    },
    "r": {
     "delete_cmd_postfix": ") ",
     "delete_cmd_prefix": "rm(",
     "library": "var_list.r",
     "varRefreshCmd": "cat(var_dic_list()) "
    }
   },
   "types_to_exclude": [
    "module",
    "function",
    "builtin_function_or_method",
    "instance",
    "_Feature"
   ],
   "window_display": false
  }
 },
 "nbformat": 4,
 "nbformat_minor": 4
}
