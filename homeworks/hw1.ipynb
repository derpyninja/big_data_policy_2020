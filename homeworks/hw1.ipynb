{
 "cells": [
  {
   "cell_type": "markdown",
   "metadata": {},
   "source": [
    "# Homeworks - Big Data and Public Policy Class"
   ]
  },
  {
   "cell_type": "markdown",
   "metadata": {},
   "source": [
    "The objective of the following homework is to **bring to practice the tools studied in class** by conducting step by step a first big data project. We advise that you do it in parallel with the lectures: the relation between the project steps and the lectures is indicated below. \n",
    "\n",
    "You will build several **machine learning models that will predict continuous and categorical variables based on data coming from webscraping and/or an API**. \n",
    "\n",
    "We propose that you predict the **daily stock price data of a large company** (of your choice) **based on the company's tweets**. You can chose a company from one of the [major stock indices](https://www.wikiwand.com/en/List_of_stock_market_indices)."
   ]
  },
  {
   "cell_type": "markdown",
   "metadata": {},
   "source": [
    "**Felix' Proposal:**\n",
    "- predict stock prices of a selected company or aggregate stock index based on tweets related to COVID-19.\n",
    "- Companies:\n",
    "    - Constellation brands which includes Corona (as a gag)\n",
    "    - tourism related companies\n",
    "    - major company producing \"atemschutzmasken\" -> !\n",
    "\n",
    "**MMM**\n",
    "\n",
    "\"Best known as the maker of Scotch tape and Post-It notes, 3M (MMM) also happens to be one of the largest producers of N95 respirators, the type of mask that more efficiently protects people against the virus than ordinary medical masks. Coronavirus has caused a worldwide mask shortage. N95 respirators and regular surgical masks have been unavailable on all major e-commerce platforms in the United States and China since early this year.\n",
    "This would not be the first time that 3M benefited from a global health crisis. When the SARS epidemic hit in 2003, 3M's sales growth shot up amid increased demand for its respirators, according to the Melius report.\n",
    "\"The 2002 impact from SARS was highly beneficial to 3M,\" said Scott Davis, a co-author of the report, told CNN Business. While the company didn't disclose any specifics at the time, \"it was meaningful and helped the stock to outperform in that period.\"\n",
    "Basic medical masks provide a barrier from particulate matter, but do not seal tightly enough against the wearer's face to eliminate the risk of contracting the virus. Worn properly, the N95 mask can filter out about 95% of small airborne particles, according to Christiana Coyle, an expert in epidemics at New York University.\"\n",
    "([See article](https://edition.cnn.com/2020/02/27/business/3m-coronavirus-hedge/index.html)).\n",
    "\n",
    "TODO:\n",
    "- fetch stock price data for 3M as y"
   ]
  },
  {
   "cell_type": "code",
   "execution_count": 106,
   "metadata": {
    "pycharm": {
     "is_executing": false
    }
   },
   "outputs": [],
   "source": [
    "# Imports\n",
    "import os\n",
    "import re\n",
    "import ast\n",
    "import time\n",
    "import requests\n",
    "\n",
    "import numpy as np\n",
    "import pandas as pd\n",
    "import seaborn as sns\n",
    "import sklearn\n",
    "\n",
    "import tweepy\n",
    "from tweepy import OAuthHandler\n",
    "from bs4 import BeautifulSoup\n",
    "from IPython.display import display\n",
    "from pprint import pprint\n",
    "\n",
    "# Display options\n",
    "pd.options.display.max_columns = 30\n",
    "pd.options.display.max_rows = 50"
   ]
  },
  {
   "cell_type": "markdown",
   "metadata": {},
   "source": [
    "Twitter API"
   ]
  },
  {
   "cell_type": "code",
   "execution_count": 12,
   "metadata": {
    "pycharm": {
     "is_executing": false
    }
   },
   "outputs": [
    {
     "name": "stdout",
     "text": [
      "Authentication OK\n"
     ],
     "output_type": "stream"
    }
   ],
   "source": [
    "# Credentials\n",
    "api_key = \"gM6qF3EooLId1hTO7jciMugXJ\" # API key\n",
    "api_key_secret = \"4WNbvQj9aZ9jvFMXtxtpe0EXkfrMP3W8EYDwN7Y18UqGVQQGwC\" # API secret key\n",
    "access_token = \"1229695971816288256-KjzKOYMJkY5WqbAYFFqg7OgzyhNcEj\"\n",
    "access_token_secret = \"mmNTwozBE1XQuIM4n3Fg3qEtzanebi9ibb8tWIaE6x2mA\"\n",
    "\n",
    "# Authentification\n",
    "auth = OAuthHandler(api_key, api_key_secret) #creating an OAuthHandler instance\n",
    "auth.set_access_token(access_token, access_token_secret) # set tokens\n",
    "api = tweepy.API(auth, wait_on_rate_limit=True, wait_on_rate_limit_notify=True)# create api connection\n",
    "\n",
    "# test authentication\n",
    "try:\n",
    "    api.verify_credentials()\n",
    "    print(\"Authentication OK\")\n",
    "except:\n",
    "    print(\"Error during authentication\")"
   ]
  },
  {
   "cell_type": "markdown",
   "metadata": {},
   "source": [
    "---------------------------\n",
    "After having decided the setting (your own or the company + corresponding timespan) that you will study, you should follow the following steps:"
   ]
  },
  {
   "cell_type": "markdown",
   "metadata": {},
   "source": [
    "**Step 1a: `X` variables** [week 2]\n",
    "- Fetch the data using the **twitter API** or any other API or website that you are interested in.\n",
    "- Beware of the rate limits and organize your program so as to overcome them if needed\n",
    "- The data should include some text, but might also have other interesting variables (retweets, favorites...)\n",
    "- Create some (non-text based) `X_num` variables that you will use for the prediction"
   ]
  },
  {
   "cell_type": "code",
   "execution_count": 13,
   "metadata": {
    "pycharm": {
     "is_executing": false
    }
   },
   "outputs": [
    {
     "name": "stdout",
     "text": [
      "{'contributors_enabled': False,\n",
      " 'created_at': 'Thu Sep 22 20:12:19 +0000 2011',\n",
      " 'default_profile': False,\n",
      " 'default_profile_image': False,\n",
      " 'description': 'Here, we innovate with purpose & use #science every day to '\n",
      "                'create real impact in every life around the world. '\n",
      "                '#LifeWith3M',\n",
      " 'entities': {'description': {'urls': []},\n",
      "              'url': {'urls': [{'display_url': '3M.com',\n",
      "                                'expanded_url': 'http://www.3M.com',\n",
      "                                'indices': [0, 22],\n",
      "                                'url': 'http://t.co/kRd2k9CCzD'}]}},\n",
      " 'favourites_count': 19534,\n",
      " 'follow_request_sent': False,\n",
      " 'followers_count': 1422140,\n",
      " 'following': False,\n",
      " 'friends_count': 5012,\n",
      " 'geo_enabled': True,\n",
      " 'has_extended_profile': False,\n",
      " 'id': 378197959,\n",
      " 'id_str': '378197959',\n",
      " 'is_translation_enabled': False,\n",
      " 'is_translator': False,\n",
      " 'lang': None,\n",
      " 'listed_count': 1153,\n",
      " 'location': 'St Paul, MN',\n",
      " 'name': '3M',\n",
      " 'notifications': False,\n",
      " 'profile_background_color': 'ABB8C2',\n",
      " 'profile_background_image_url': 'http://abs.twimg.com/images/themes/theme1/bg.png',\n",
      " 'profile_background_image_url_https': 'https://abs.twimg.com/images/themes/theme1/bg.png',\n",
      " 'profile_background_tile': False,\n",
      " 'profile_banner_url': 'https://pbs.twimg.com/profile_banners/378197959/1571777196',\n",
      " 'profile_image_url': 'http://pbs.twimg.com/profile_images/723375867582287873/mfa49ac6_normal.jpg',\n",
      " 'profile_image_url_https': 'https://pbs.twimg.com/profile_images/723375867582287873/mfa49ac6_normal.jpg',\n",
      " 'profile_link_color': '0084B4',\n",
      " 'profile_location': {'attributes': {},\n",
      "                      'bounding_box': None,\n",
      "                      'contained_within': [],\n",
      "                      'country': '',\n",
      "                      'country_code': '',\n",
      "                      'full_name': 'St Paul, MN',\n",
      "                      'id': '60e2c37980197297',\n",
      "                      'name': 'St Paul, MN',\n",
      "                      'place_type': 'unknown',\n",
      "                      'url': 'https://api.twitter.com/1.1/geo/id/60e2c37980197297.json'},\n",
      " 'profile_sidebar_border_color': 'C0DEED',\n",
      " 'profile_sidebar_fill_color': 'DDEEF6',\n",
      " 'profile_text_color': '333333',\n",
      " 'profile_use_background_image': False,\n",
      " 'protected': False,\n",
      " 'screen_name': '3M',\n",
      " 'status': {'contributors': None,\n",
      "            'coordinates': None,\n",
      "            'created_at': 'Mon Mar 09 22:34:48 +0000 2020',\n",
      "            'entities': {'hashtags': [],\n",
      "                         'symbols': [],\n",
      "                         'urls': [{'display_url': 'twitter.com/i/web/status/1…',\n",
      "                                   'expanded_url': 'https://twitter.com/i/web/status/1237144834311323648',\n",
      "                                   'indices': [117, 140],\n",
      "                                   'url': 'https://t.co/i5CAu9XL0S'}],\n",
      "                         'user_mentions': [{'id': 1236988092768231424,\n",
      "                                            'id_str': '1236988092768231424',\n",
      "                                            'indices': [0, 15],\n",
      "                                            'name': 'somar.k',\n",
      "                                            'screen_name': 'somark12635510'}]},\n",
      "            'favorite_count': 0,\n",
      "            'favorited': False,\n",
      "            'geo': None,\n",
      "            'id': 1237144834311323648,\n",
      "            'id_str': '1237144834311323648',\n",
      "            'in_reply_to_screen_name': 'somark12635510',\n",
      "            'in_reply_to_status_id': 1236988710241161217,\n",
      "            'in_reply_to_status_id_str': '1236988710241161217',\n",
      "            'in_reply_to_user_id': 1236988092768231424,\n",
      "            'in_reply_to_user_id_str': '1236988092768231424',\n",
      "            'is_quote_status': False,\n",
      "            'lang': 'en',\n",
      "            'place': None,\n",
      "            'possibly_sensitive': False,\n",
      "            'retweet_count': 0,\n",
      "            'retweeted': False,\n",
      "            'source': '<a href=\"https://www.spredfast.com/\" '\n",
      "                      'rel=\"nofollow\">Khoros</a>',\n",
      "            'text': '@somark12635510 Hi Somar - Thank you for reaching out to '\n",
      "                    \"us. We do not take direct orders and you'd have to \"\n",
      "                    'connect… https://t.co/i5CAu9XL0S',\n",
      "            'truncated': True},\n",
      " 'statuses_count': 10279,\n",
      " 'time_zone': None,\n",
      " 'translator_type': 'none',\n",
      " 'url': 'http://t.co/kRd2k9CCzD',\n",
      " 'utc_offset': None,\n",
      " 'verified': True}\n"
     ],
     "output_type": "stream"
    }
   ],
   "source": [
    "MMM_info = api.get_user(screen_name=\"3M\")\n",
    "pprint(MMM_info._json)"
   ]
  },
  {
   "cell_type": "code",
   "execution_count": 14,
   "metadata": {
    "pycharm": {
     "is_executing": false
    }
   },
   "outputs": [
    {
     "name": "stdout",
     "text": [
      "3223 tweets fetched.\n",
      "\n"
     ],
     "output_type": "stream"
    }
   ],
   "source": [
    "# Explanation of \"tweet_mode = extended\": \n",
    "# When using extended mode, the text attribute of \n",
    "# Status objects returned by tweepy.API methods is replaced by a full_text \n",
    "# attribute, which contains the entire untruncated text of the Tweet. \n",
    "\n",
    "# Fetch data from 3M twitter account\n",
    "target_user = '@3M'\n",
    "n_tweets = 5000\n",
    "df_tweets = pd.DataFrame()\n",
    "\n",
    "try:   \n",
    "    # Put the tweets into a data frame object\n",
    "    tweet_count = 0\n",
    "    for tweet in tweepy.Cursor(api.user_timeline, \n",
    "                               screen_name=target_user, \n",
    "                               tweet_mode='extended').items(limit=n_tweets):\n",
    "\n",
    "                # 1. Transform the json into a dataframe\n",
    "                df_tweet = pd.DataFrame.from_dict(tweet._json, orient='index', \n",
    "                                                  columns=[tweet_count]) # , sleep_on_rate_limit=True\n",
    "\n",
    "                # 2. adds screen name as a row\n",
    "                #df_tweet=df_tweet.append(pd.DataFrame({tweet_count:[target]}, index=['twitter_handle']))\n",
    "\n",
    "                # 3. Concatenate the tweet dataframe to the df_tweets dataframe\n",
    "                df_tweets = pd.concat([df_tweet, df_tweets], axis=1)\n",
    "\n",
    "                # count the number of tweets fetched\n",
    "                tweet_count += 1 \n",
    "\n",
    "    time.sleep(1)\n",
    "\n",
    "# except if TweepError arises\n",
    "except tweepy.TweepError: #the error arises when the user has protected tweets\n",
    "    print(\"Failed to run the command \"\n",
    "          \"on user {}, Skipping...\".format(target_user))\n",
    "\n",
    "# except if RateLimitError arises\n",
    "except tweepy.RateLimitError:\n",
    "    print(\"resource usage limit: {} skipped\".format(target_user))\n",
    "    time.sleep(15 * 60) # wait 15 mins\n",
    "\n",
    "# transpose\n",
    "df_tweets = df_tweets.transpose()\n",
    "\n",
    "# try auto-inferring dtypes to cast columns from dtype \"object\" to more \n",
    "# appropriate and memory-efficient dtypes\n",
    "df_tweets = df_tweets.infer_objects()\n",
    "\n",
    "# manually deal with the remaining column dtypes\n",
    "df_tweets['created_at'] = pd.to_datetime(df_tweets['created_at'])\n",
    "\n",
    "# set datetime index\n",
    "df_tweets = df_tweets.set_index('created_at')\n",
    "\n",
    "# save\n",
    "df_tweets.to_csv(\"./3M_tweets.csv\", sep=';')\n",
    "print(\"{} tweets fetched.\\n\".format(df_tweets.shape[0]))\n",
    "\n",
    "# -----------------------------------------------------------------------------\n",
    "# ALTERNATIVE CODE\n",
    "# Fetch tweets in a specific user timeline using the Cursor based on hashtags\n",
    "# -----------------------------------------------------------------------------\n",
    "# n_tweets = 1000\n",
    "# search_words = [\"#coronavirus\", \"COVID19\"]\n",
    "# date_since = \"2020-03-04\"\n",
    "# df_tweets = pd.DataFrame() # empty dataframe where the tweet will be saved\n",
    "# \n",
    "# try:\n",
    "#     # Fetch nb_tweets_by_target for target\n",
    "#     tweets = tweepy.Cursor(api.search, q=search_words, \n",
    "#                            lang=\"en\", since=date_since).items(n_tweets)\n",
    "# \n",
    "#     # Put the tweets into a dataframe object\n",
    "#     tweet_count = 0\n",
    "#     for tweet in tweets:\n",
    "#         # 1. Transform the json into a dataframe\n",
    "#         df_tweet = pd.DataFrame.from_dict(tweet._json, orient='index', columns=[tweet_count])\n",
    "#         \n",
    "#         # 2. Add the tweet dataframe to the df_tweets dataframe\n",
    "#         df_tweets = pd.concat([df_tweet, df_tweets], axis=1)\n",
    "# \n",
    "#         # counting the number of target fetched\n",
    "#         tweet_count += 1 \n",
    "# \n",
    "#     time.sleep(0.5)\n",
    "# \n",
    "# # except if TweepError arises\n",
    "# except tweepy.TweepError: #the error arises when the user has protected tweets\n",
    "#     print(\"Failed to run the command on user {}, Skipping...\".format(target_user))\n",
    "# \n",
    "# # except if RateLimitError arises\n",
    "# except tweepy.RateLimitError:\n",
    "#     print(\"ressource usage limit: {} skipped\".format(target_user))\n",
    "#     time.sleep(0.3)\n",
    "#     \n",
    "# # transpose\n",
    "# df_tweets = df_tweets.transpose()\n",
    "# \n",
    "# # try auto-inferring dtypes to cast columns from dtype \"object\" to more appropriate and memory-efficient dtypes\n",
    "# df_tweets = df_tweets.infer_objects()\n",
    "# \n",
    "# # manually deal with the remaining column dtypes\n",
    "# # TODO: deal with remainings\n",
    "# df_tweets['created_at'] = pd.to_datetime(df_tweets['created_at'])\n",
    "# \n",
    "# # set datetime index\n",
    "# df_tweets = df_tweets.set_index('created_at')\n",
    "# \n",
    "# # export\n",
    "# df_tweets.to_csv(\"./3M_corona_{}tweets.csv\".format(df_tweets.shape[0]))\n",
    "# print(\"{} tweets fetched.\\n\".format(df_tweets.shape[0]))\n"
   ]
  },
  {
   "cell_type": "code",
   "execution_count": 124,
   "outputs": [
    {
     "name": "stdout",
     "text": [
      "Index(['id', 'id_str', 'full_text', 'truncated', 'display_text_range',\n",
      "       'entities', 'source', 'in_reply_to_status_id',\n",
      "       'in_reply_to_status_id_str', 'in_reply_to_user_id',\n",
      "       'in_reply_to_user_id_str', 'in_reply_to_screen_name', 'user', 'geo',\n",
      "       'coordinates', 'place', 'contributors', 'is_quote_status',\n",
      "       'retweet_count', 'favorite_count', 'favorited', 'retweeted',\n",
      "       'possibly_sensitive', 'lang', 'retweeted_status', 'extended_entities',\n",
      "       'quoted_status_id', 'quoted_status_id_str', 'quoted_status_permalink',\n",
      "       'quoted_status'],\n",
      "      dtype='object')\n"
     ],
     "output_type": "stream"
    }
   ],
   "source": [
    "# create numeric X variable(s) based on fetched tweets\n",
    "# -----------------------------------------------------------------------------\n",
    "df_tweets = pd.read_csv('3M_tweets.csv', sep=';', index_col='created_at')\n",
    "df_tweets.index = pd.to_datetime(df_tweets.index)\n",
    "X_num = pd.DataFrame(index=df_tweets.index, columns=['n_text', 'n_hashtags'])\n",
    "\n",
    "# define list of search strings\n",
    "hashtag_search_strings = ['coronavirus', 'covid19']\n",
    "text_search_strings = ['coronavirus', 'covid19', 'combat', 'safety'] # TODO: add more\n",
    "\n",
    "# word counter function\n",
    "def occurrence_counter(string_list, search_string):\n",
    "    return sum(map(lambda x: x in string_list, search_string.split(' ')))\n",
    "\n",
    "print(df_tweets.columns)"
   ],
   "metadata": {
    "collapsed": false,
    "pycharm": {
     "name": "#%%\n",
     "is_executing": false
    }
   }
  },
  {
   "cell_type": "code",
   "execution_count": 131,
   "outputs": [],
   "source": [
    "# counter \n",
    "idx_num = 0\n",
    "\n",
    "# iterate over tweets and fetch ocurrence number of corona related keywords\n",
    "# in both the full text and hashtags\n",
    "# TODO: doesn't it suffice to search in the full text only and skip the \n",
    "#  entities? Aren't they a subset of the full text ocurrences?\n",
    "for idx, row in df_tweets.iterrows():\n",
    "    # 1) infer number of times the search strings were mentioned as a hashtag\n",
    "    # -------------------------------------------------------------------------\n",
    "    # parse string representation of dict to dict using ast module\n",
    "    hashtags_list_of_dicts = ast.literal_eval(row['entities']).get('hashtags')\n",
    "    if len(hashtags_list_of_dicts) != 0:\n",
    "        hashtags = []\n",
    "        for hashtag_entry in hashtags_list_of_dicts:\n",
    "            hashtags.append(hashtag_entry.get('text'))\n",
    "        \n",
    "        # count ocurrences of words defined in search_strings\n",
    "        hashtag_counts = []\n",
    "        for keyword in hashtag_search_strings:\n",
    "            hashtag_counts.append(occurrence_counter(string_list=hashtags, \n",
    "                                                     search_string=keyword))\n",
    "        # append count\n",
    "        X_num.iloc[idx_num]['n_hashtags'] = sum(hashtag_counts)\n",
    "    else:\n",
    "        X_num.iloc[idx_num]['n_hashtags'] = 0\n",
    "        \n",
    "    # 2) infer number of times the search strings were mentioned in tweet text\n",
    "    # -------------------------------------------------------------------------\n",
    "    full_text = row['full_text'].split()\n",
    "    \n",
    "    # count ocurrences of words defined in search_strings\n",
    "    text_counts = []\n",
    "    for keyword in text_search_strings:\n",
    "            text_counts.append(occurrence_counter(string_list=full_text, \n",
    "                                                  search_string=keyword))\n",
    "    # append count\n",
    "    if sum(text_counts) != 0:\n",
    "        X_num.iloc[idx_num]['n_text'] = sum(text_counts)\n",
    "    else:\n",
    "        X_num.iloc[idx_num]['n_text'] = 0\n",
    "    # end of loop: update counter\n",
    "    idx_num += 1\n",
    "    "
   ],
   "metadata": {
    "collapsed": false,
    "pycharm": {
     "name": "#%%\n",
     "is_executing": false
    }
   }
  },
  {
   "cell_type": "code",
   "execution_count": 133,
   "outputs": [
    {
     "name": "stdout",
     "text": [
      "                          n_text n_hashtags\n",
      "created_at                                 \n",
      "2018-01-18 16:59:42+00:00      0          0\n",
      "2018-01-18 17:02:01+00:00      0          0\n",
      "2018-01-18 18:37:32+00:00      0          0\n",
      "2018-01-18 19:10:46+00:00      0          0\n",
      "2018-01-18 22:40:06+00:00      0          0\n",
      "...                          ...        ...\n",
      "2020-03-09 22:15:07+00:00      0          0\n",
      "2020-03-09 22:22:30+00:00      0          0\n",
      "2020-03-09 22:25:31+00:00      0          0\n",
      "2020-03-09 22:30:11+00:00      0          0\n",
      "2020-03-09 22:34:48+00:00      0          0\n",
      "\n",
      "[3223 rows x 2 columns]\n"
     ],
     "output_type": "stream"
    },
    {
     "data": {
      "text/plain": "           n_text  n_hashtags\ncount  782.000000  782.000000\nmean     0.023018    0.006394\nstd      0.150056    0.079757\nmin      0.000000    0.000000\n25%      0.000000    0.000000\n50%      0.000000    0.000000\n75%      0.000000    0.000000\nmax      1.000000    1.000000",
      "text/html": "<div>\n<style scoped>\n    .dataframe tbody tr th:only-of-type {\n        vertical-align: middle;\n    }\n\n    .dataframe tbody tr th {\n        vertical-align: top;\n    }\n\n    .dataframe thead th {\n        text-align: right;\n    }\n</style>\n<table border=\"1\" class=\"dataframe\">\n  <thead>\n    <tr style=\"text-align: right;\">\n      <th></th>\n      <th>n_text</th>\n      <th>n_hashtags</th>\n    </tr>\n  </thead>\n  <tbody>\n    <tr>\n      <th>count</th>\n      <td>782.000000</td>\n      <td>782.000000</td>\n    </tr>\n    <tr>\n      <th>mean</th>\n      <td>0.023018</td>\n      <td>0.006394</td>\n    </tr>\n    <tr>\n      <th>std</th>\n      <td>0.150056</td>\n      <td>0.079757</td>\n    </tr>\n    <tr>\n      <th>min</th>\n      <td>0.000000</td>\n      <td>0.000000</td>\n    </tr>\n    <tr>\n      <th>25%</th>\n      <td>0.000000</td>\n      <td>0.000000</td>\n    </tr>\n    <tr>\n      <th>50%</th>\n      <td>0.000000</td>\n      <td>0.000000</td>\n    </tr>\n    <tr>\n      <th>75%</th>\n      <td>0.000000</td>\n      <td>0.000000</td>\n    </tr>\n    <tr>\n      <th>max</th>\n      <td>1.000000</td>\n      <td>1.000000</td>\n    </tr>\n  </tbody>\n</table>\n</div>"
     },
     "metadata": {},
     "output_type": "execute_result",
     "execution_count": 133
    },
    {
     "data": {
      "text/plain": "<Figure size 720x360 with 1 Axes>",
      "image/png": "[encoded data removed]"
     },
     "metadata": {
      "needs_background": "light"
     },
     "output_type": "display_data"
    },
    {
     "data": {
      "text/plain": "<Figure size 432x288 with 1 Axes>",
      "image/png": "[encoded data removed]"
     },
     "metadata": {
      "needs_background": "light"
     },
     "output_type": "display_data"
    }
   ],
   "source": [
    "print(X_num)\n",
    "X_num_daily = X_num.resample('D').sum()\n",
    "X_num_daily.plot(figsize=(10,5))\n",
    "X_num_daily.plot.hist(stacked=True)\n",
    "X_num_daily.describe()"
   ],
   "metadata": {
    "collapsed": false,
    "pycharm": {
     "name": "#%%\n",
     "is_executing": false
    }
   }
  },
  {
   "cell_type": "code",
   "execution_count": 90,
   "outputs": [
    {
     "data": {
      "text/plain": "           n_text  n_hashtags\ncount  782.000000  782.000000\nmean     0.023018    0.006394\nstd      0.150056    0.079757\nmin      0.000000    0.000000\n25%      0.000000    0.000000\n50%      0.000000    0.000000\n75%      0.000000    0.000000\nmax      1.000000    1.000000",
      "text/html": "<div>\n<style scoped>\n    .dataframe tbody tr th:only-of-type {\n        vertical-align: middle;\n    }\n\n    .dataframe tbody tr th {\n        vertical-align: top;\n    }\n\n    .dataframe thead th {\n        text-align: right;\n    }\n</style>\n<table border=\"1\" class=\"dataframe\">\n  <thead>\n    <tr style=\"text-align: right;\">\n      <th></th>\n      <th>n_text</th>\n      <th>n_hashtags</th>\n    </tr>\n  </thead>\n  <tbody>\n    <tr>\n      <th>count</th>\n      <td>782.000000</td>\n      <td>782.000000</td>\n    </tr>\n    <tr>\n      <th>mean</th>\n      <td>0.023018</td>\n      <td>0.006394</td>\n    </tr>\n    <tr>\n      <th>std</th>\n      <td>0.150056</td>\n      <td>0.079757</td>\n    </tr>\n    <tr>\n      <th>min</th>\n      <td>0.000000</td>\n      <td>0.000000</td>\n    </tr>\n    <tr>\n      <th>25%</th>\n      <td>0.000000</td>\n      <td>0.000000</td>\n    </tr>\n    <tr>\n      <th>50%</th>\n      <td>0.000000</td>\n      <td>0.000000</td>\n    </tr>\n    <tr>\n      <th>75%</th>\n      <td>0.000000</td>\n      <td>0.000000</td>\n    </tr>\n    <tr>\n      <th>max</th>\n      <td>1.000000</td>\n      <td>1.000000</td>\n    </tr>\n  </tbody>\n</table>\n</div>"
     },
     "metadata": {},
     "output_type": "execute_result",
     "execution_count": 90
    }
   ],
   "source": [],
   "metadata": {
    "collapsed": false,
    "pycharm": {
     "name": "#%%\n",
     "is_executing": false
    }
   }
  },
  {
   "cell_type": "markdown",
   "metadata": {},
   "source": [
    "**Step 1b: continuous `y` variables** [week 2]\n",
    "- Fetching the data: \n",
    "    - if you work on the suggested idea, you can easily access daily stock \n",
    "    prices using the [`yfinance` package](https://pypi.org/project/yfinance/) (see below)\n",
    "    - otherwise, you can find some interesting data listed in the syllabus\n",
    "\n"
   ]
  },
  {
   "cell_type": "markdown",
   "metadata": {},
   "source": [
    "**Step 1c: merge `X_num` and `y`** [week 2]\n",
    "- Beware of the temporality: in the case of the proposed study on stock market prices, you will have to deal with the fact that the X is at the tweet level while `y` is daily. \n",
    "\n",
    "***Milestone 1 - March 24th*** *You can submit the previous steps as a first notebook.*"
   ]
  },
  {
   "cell_type": "code",
   "execution_count": 15,
   "metadata": {
    "pycharm": {
     "is_executing": false
    }
   },
   "outputs": [],
   "source": []
  },
  {
   "cell_type": "markdown",
   "metadata": {},
   "source": [
    "**Sample split.** Do the standard 80% / 20% training/test split using all days in the data. In addition, do a separate temporal split where the training set is the first 80% of days in the time series.\n",
    "\n",
    "**For all machine learning models**, report performance measure in test and train samples.\n",
    "\n",
    "**Step 2a: estimate different regression models using `X_num` and `y`** [week 3]\n",
    "\n",
    "***Milestone 2 - March 31th***  *You can submit the previous steps as a second notebook.*\n",
    "\n",
    "**Step 3: text analysis** [week 4]\n",
    "- Featurize tweets (or another text dataset related to your subject): transform the text into a standard document-level dataset `X_doc`\n",
    "\n",
    "**Step 2b: estimate different regression models using `X_doc` and `y`** [week 3]\n",
    "\n",
    "**Step 4: estimate a classification models** [week 5]\n",
    "- propose a categorical variable `y_calc` that you can compute from the continuous one (`y`) (e.g. positive or negative growthin stock prices). For the `X` dimension, you can use `X_doc` or `X_num` or both. \n",
    "- you can use any other categorical variable that you find relevant \n",
    "\n",
    "***Milestone 3 - April 21th***  *You can submit the previous steps as a third notebook.*\n",
    "\n",
    "**Step 6: Dimension reduction** [week 6]\n",
    "- Use one of the dimension reductions methods to dimension-reduce the features\n",
    "    - PCA or topic model (LDA or STM) or k-means clustering on the featurized text `X_doc`\n",
    "- Run another classifier\n",
    "\n",
    "**Step bonus: Econometric identification** [week 8]\n",
    "- Find an exogenous shock affecting this firm (but not all the firms) and a control group of firms not affected\n",
    "    - example: a natural disaster/shock to the exchange rate/change in ownership... affects the functionning of this firm but not the other firms of the stock market index.  \n",
    "- scale up the previous data collection to the firms in the control group\n",
    "- use one of the technique studied in class to causaly identify the impact of the exogenous shock on the stock market of the affected firm\n",
    "\n",
    "***Milestone 4 - May 17th*** *You can submit the previous steps as a last notebook.*\n",
    "\n",
    "---------------------------\n",
    "**Requirement for completion grade**: \n",
    "- the homework should be done in **groups of 1 or 2 persons** \n",
    "- the homework will have to be submitted as a (Python or R) **notebooks**\n",
    "- you can give them back at the indicated **milestone** or on May 17th (no homework will be accepted after May 17th)\n",
    "- the notebooks should contain at least **three graphs** (overall)\n",
    "- each notebook should run from the beginning to then end, but:\n",
    "    - beware of paths to folders that are on your computer but not on mine\n",
    "    - if you have such a path, you can: \n",
    "        - have the data downloaded in the notebook directly\n",
    "        - import your data in a github (or any other online storage) folder that the notebook can access  \n",
    "    - indicate if the notebook takes more than 30 minutes to run\n",
    "- do not write us emails regarding the homework, ask your questions on the **forum**, it will benefit everyone for sure! \n",
    "\n",
    "---------------------------\n",
    "\n",
    "**Alternative homework**\n",
    "\n",
    "If you prefer, we propose for two persons at most to translate all python notebooks of the class into R. This work would count as your homework for the class. Contact us in advance if you want to do this."
   ]
  },
  {
   "cell_type": "code",
   "execution_count": 16,
   "metadata": {
    "pycharm": {
     "is_executing": false
    }
   },
   "outputs": [],
   "source": []
  }
 ],
 "metadata": {
  "kernelspec": {
   "name": "pycharm-3837c9a2",
   "language": "python",
   "display_name": "PyCharm (bd4pp)"
  },
  "language_info": {
   "codemirror_mode": {
    "name": "ipython",
    "version": 3
   },
   "file_extension": ".py",
   "mimetype": "text/x-python",
   "name": "python",
   "nbconvert_exporter": "python",
   "pygments_lexer": "ipython3",
   "version": "3.7.6"
  },
  "toc": {
   "base_numbering": 1,
   "nav_menu": {},
   "number_sections": true,
   "sideBar": true,
   "skip_h1_title": false,
   "title_cell": "Table of Contents",
   "title_sidebar": "Contents",
   "toc_cell": false,
   "toc_position": {
    "height": "calc(100% - 180px)",
    "left": "10px",
    "top": "150px",
    "width": "165px"
   },
   "toc_section_display": true,
   "toc_window_display": true
  },
  "varInspector": {
   "cols": {
    "lenName": 16,
    "lenType": 16,
    "lenVar": 40
   },
   "kernels_config": {
    "python": {
     "delete_cmd_postfix": "",
     "delete_cmd_prefix": "del ",
     "library": "var_list.py",
     "varRefreshCmd": "print(var_dic_list())"
    },
    "r": {
     "delete_cmd_postfix": ") ",
     "delete_cmd_prefix": "rm(",
     "library": "var_list.r",
     "varRefreshCmd": "cat(var_dic_list()) "
    }
   },
   "types_to_exclude": [
    "module",
    "function",
    "builtin_function_or_method",
    "instance",
    "_Feature"
   ],
   "window_display": false
  },
  "pycharm": {
   "stem_cell": {
    "cell_type": "raw",
    "source": [],
    "metadata": {
     "collapsed": false
    }
   }
  }
 },
 "nbformat": 4,
 "nbformat_minor": 2
}